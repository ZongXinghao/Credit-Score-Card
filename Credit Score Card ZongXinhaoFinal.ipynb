{
 "cells": [
  {
   "cell_type": "markdown",
   "metadata": {},
   "source": [
    "#  Credit Score Card                               \n",
    "### Zong Xinghao "
   ]
  },
  {
   "cell_type": "markdown",
   "metadata": {},
   "source": [
    "# 1 Read in the files"
   ]
  },
  {
   "cell_type": "code",
   "execution_count": 176,
   "metadata": {},
   "outputs": [],
   "source": [
    "import pandas as pd\n",
    "import numpy as np\n",
    "import os\n",
    "import time\n",
    "import matplotlib.pyplot as plt\n",
    "from sklearn.ensemble              import RandomForestClassifier\n",
    "from sklearn.ensemble              import RandomForestRegressor\n",
    "from sklearn.linear_model          import LogisticRegression\n",
    "from sklearn.tree                  import DecisionTreeClassifier\n",
    "from sklearn.discriminant_analysis import LinearDiscriminantAnalysis\n",
    "from sklearn.neighbors             import KNeighborsClassifier\n",
    "from sklearn.naive_bayes           import GaussianNB\n",
    "from sklearn.model_selection       import GridSearchCV\n",
    "from sklearn.metrics               import confusion_matrix, accuracy_score, roc_auc_score, balanced_accuracy_score, precision_score, f1_score,roc_curve,auc\n",
    "from sklearn.svm                   import SVC \n",
    "import warnings\n",
    "from scipy import stats\n",
    "import seaborn\n",
    "from sklearn.model_selection import train_test_split\n",
    "warnings.filterwarnings('ignore')"
   ]
  },
  {
   "cell_type": "code",
   "execution_count": 177,
   "metadata": {},
   "outputs": [
    {
     "name": "stdout",
     "output_type": "stream",
     "text": [
      "C:\\Users\\xzong\\Desktop\\MBD\\Credit Scoring\\\n"
     ]
    }
   ],
   "source": [
    "path = os.getcwd() + \"\\\\\"\n",
    "print(path)"
   ]
  },
  {
   "cell_type": "code",
   "execution_count": 178,
   "metadata": {},
   "outputs": [],
   "source": [
    "accepts = pd.read_excel('Accepts.xlsx')\n",
    "rejects = pd.read_excel('Rejects.xlsx')"
   ]
  },
  {
   "cell_type": "code",
   "execution_count": 179,
   "metadata": {},
   "outputs": [
    {
     "data": {
      "text/html": [
       "<div>\n",
       "<style scoped>\n",
       "    .dataframe tbody tr th:only-of-type {\n",
       "        vertical-align: middle;\n",
       "    }\n",
       "\n",
       "    .dataframe tbody tr th {\n",
       "        vertical-align: top;\n",
       "    }\n",
       "\n",
       "    .dataframe thead th {\n",
       "        text-align: right;\n",
       "    }\n",
       "</style>\n",
       "<table border=\"1\" class=\"dataframe\">\n",
       "  <thead>\n",
       "    <tr style=\"text-align: right;\">\n",
       "      <th></th>\n",
       "      <th>ID</th>\n",
       "      <th>V1</th>\n",
       "      <th>V2</th>\n",
       "      <th>V3</th>\n",
       "      <th>V4</th>\n",
       "      <th>V5</th>\n",
       "      <th>V6</th>\n",
       "      <th>V7</th>\n",
       "      <th>V8</th>\n",
       "      <th>Has_FICO</th>\n",
       "      <th>Business_channel</th>\n",
       "      <th>Days_late</th>\n",
       "      <th>FICO_Score</th>\n",
       "      <th>Loan_amount</th>\n",
       "      <th>Monthly_income</th>\n",
       "      <th>Age</th>\n",
       "      <th>Gearing_coefficient</th>\n",
       "      <th>Max_gearing_ratio</th>\n",
       "      <th>Default_45</th>\n",
       "    </tr>\n",
       "  </thead>\n",
       "  <tbody>\n",
       "    <tr>\n",
       "      <td>0</td>\n",
       "      <td>250263</td>\n",
       "      <td>1</td>\n",
       "      <td>1</td>\n",
       "      <td>11</td>\n",
       "      <td>5</td>\n",
       "      <td>6</td>\n",
       "      <td>7</td>\n",
       "      <td>1</td>\n",
       "      <td>2</td>\n",
       "      <td>0</td>\n",
       "      <td>1</td>\n",
       "      <td>0</td>\n",
       "      <td>NaN</td>\n",
       "      <td>1.438518</td>\n",
       "      <td>-0.259085</td>\n",
       "      <td>1.781040</td>\n",
       "      <td>0.860269</td>\n",
       "      <td>0.513980</td>\n",
       "      <td>0</td>\n",
       "    </tr>\n",
       "    <tr>\n",
       "      <td>1</td>\n",
       "      <td>250290</td>\n",
       "      <td>1</td>\n",
       "      <td>2</td>\n",
       "      <td>6</td>\n",
       "      <td>4</td>\n",
       "      <td>5</td>\n",
       "      <td>1</td>\n",
       "      <td>1</td>\n",
       "      <td>2</td>\n",
       "      <td>1</td>\n",
       "      <td>1</td>\n",
       "      <td>0</td>\n",
       "      <td>1.498183</td>\n",
       "      <td>0.204811</td>\n",
       "      <td>0.383312</td>\n",
       "      <td>1.107163</td>\n",
       "      <td>-0.718249</td>\n",
       "      <td>1.796590</td>\n",
       "      <td>0</td>\n",
       "    </tr>\n",
       "    <tr>\n",
       "      <td>2</td>\n",
       "      <td>250249</td>\n",
       "      <td>2</td>\n",
       "      <td>3</td>\n",
       "      <td>11</td>\n",
       "      <td>5</td>\n",
       "      <td>7</td>\n",
       "      <td>7</td>\n",
       "      <td>1</td>\n",
       "      <td>2</td>\n",
       "      <td>1</td>\n",
       "      <td>1</td>\n",
       "      <td>0</td>\n",
       "      <td>-0.241731</td>\n",
       "      <td>-0.852651</td>\n",
       "      <td>-0.732430</td>\n",
       "      <td>1.406664</td>\n",
       "      <td>1.122930</td>\n",
       "      <td>-0.768631</td>\n",
       "      <td>0</td>\n",
       "    </tr>\n",
       "    <tr>\n",
       "      <td>3</td>\n",
       "      <td>249516</td>\n",
       "      <td>3</td>\n",
       "      <td>3</td>\n",
       "      <td>10</td>\n",
       "      <td>4</td>\n",
       "      <td>2</td>\n",
       "      <td>4</td>\n",
       "      <td>1</td>\n",
       "      <td>2</td>\n",
       "      <td>0</td>\n",
       "      <td>1</td>\n",
       "      <td>168</td>\n",
       "      <td>NaN</td>\n",
       "      <td>-0.676407</td>\n",
       "      <td>-0.057350</td>\n",
       "      <td>0.957412</td>\n",
       "      <td>-1.702482</td>\n",
       "      <td>0.513980</td>\n",
       "      <td>1</td>\n",
       "    </tr>\n",
       "    <tr>\n",
       "      <td>4</td>\n",
       "      <td>249827</td>\n",
       "      <td>1</td>\n",
       "      <td>3</td>\n",
       "      <td>5</td>\n",
       "      <td>2</td>\n",
       "      <td>4</td>\n",
       "      <td>4</td>\n",
       "      <td>1</td>\n",
       "      <td>3</td>\n",
       "      <td>0</td>\n",
       "      <td>1</td>\n",
       "      <td>0</td>\n",
       "      <td>NaN</td>\n",
       "      <td>-0.412042</td>\n",
       "      <td>-0.574648</td>\n",
       "      <td>-0.390342</td>\n",
       "      <td>0.910077</td>\n",
       "      <td>-0.768631</td>\n",
       "      <td>0</td>\n",
       "    </tr>\n",
       "  </tbody>\n",
       "</table>\n",
       "</div>"
      ],
      "text/plain": [
       "       ID  V1  V2  V3  V4  V5  V6  V7 V8  Has_FICO  Business_channel  \\\n",
       "0  250263   1   1  11   5   6   7   1  2         0                 1   \n",
       "1  250290   1   2   6   4   5   1   1  2         1                 1   \n",
       "2  250249   2   3  11   5   7   7   1  2         1                 1   \n",
       "3  249516   3   3  10   4   2   4   1  2         0                 1   \n",
       "4  249827   1   3   5   2   4   4   1  3         0                 1   \n",
       "\n",
       "   Days_late  FICO_Score  Loan_amount  Monthly_income       Age  \\\n",
       "0          0         NaN     1.438518       -0.259085  1.781040   \n",
       "1          0    1.498183     0.204811        0.383312  1.107163   \n",
       "2          0   -0.241731    -0.852651       -0.732430  1.406664   \n",
       "3        168         NaN    -0.676407       -0.057350  0.957412   \n",
       "4          0         NaN    -0.412042       -0.574648 -0.390342   \n",
       "\n",
       "   Gearing_coefficient  Max_gearing_ratio  Default_45  \n",
       "0             0.860269           0.513980           0  \n",
       "1            -0.718249           1.796590           0  \n",
       "2             1.122930          -0.768631           0  \n",
       "3            -1.702482           0.513980           1  \n",
       "4             0.910077          -0.768631           0  "
      ]
     },
     "execution_count": 179,
     "metadata": {},
     "output_type": "execute_result"
    }
   ],
   "source": [
    "accepts.head()"
   ]
  },
  {
   "cell_type": "code",
   "execution_count": 180,
   "metadata": {},
   "outputs": [
    {
     "data": {
      "text/html": [
       "<div>\n",
       "<style scoped>\n",
       "    .dataframe tbody tr th:only-of-type {\n",
       "        vertical-align: middle;\n",
       "    }\n",
       "\n",
       "    .dataframe tbody tr th {\n",
       "        vertical-align: top;\n",
       "    }\n",
       "\n",
       "    .dataframe thead th {\n",
       "        text-align: right;\n",
       "    }\n",
       "</style>\n",
       "<table border=\"1\" class=\"dataframe\">\n",
       "  <thead>\n",
       "    <tr style=\"text-align: right;\">\n",
       "      <th></th>\n",
       "      <th>ID</th>\n",
       "      <th>V1</th>\n",
       "      <th>V2</th>\n",
       "      <th>V3</th>\n",
       "      <th>V4</th>\n",
       "      <th>V5</th>\n",
       "      <th>V6</th>\n",
       "      <th>V7</th>\n",
       "      <th>V8</th>\n",
       "      <th>Has_FICO</th>\n",
       "      <th>Business_channel</th>\n",
       "      <th>FICO_Score</th>\n",
       "      <th>Loan_amount</th>\n",
       "      <th>Monthly_income</th>\n",
       "      <th>Age</th>\n",
       "      <th>Gearing_coefficient</th>\n",
       "      <th>Max_gearing_ratio</th>\n",
       "    </tr>\n",
       "  </thead>\n",
       "  <tbody>\n",
       "    <tr>\n",
       "      <td>0</td>\n",
       "      <td>305932</td>\n",
       "      <td>3</td>\n",
       "      <td>3</td>\n",
       "      <td>14</td>\n",
       "      <td>2</td>\n",
       "      <td>1</td>\n",
       "      <td>5</td>\n",
       "      <td>1</td>\n",
       "      <td>1</td>\n",
       "      <td>1</td>\n",
       "      <td>1</td>\n",
       "      <td>-0.030455</td>\n",
       "      <td>-0.323920</td>\n",
       "      <td>-0.605449</td>\n",
       "      <td>-1.064220</td>\n",
       "      <td>1.028210</td>\n",
       "      <td>-0.768631</td>\n",
       "    </tr>\n",
       "    <tr>\n",
       "      <td>1</td>\n",
       "      <td>305764</td>\n",
       "      <td>1</td>\n",
       "      <td>4</td>\n",
       "      <td>7</td>\n",
       "      <td>1</td>\n",
       "      <td>6</td>\n",
       "      <td>4</td>\n",
       "      <td>1</td>\n",
       "      <td>2</td>\n",
       "      <td>1</td>\n",
       "      <td>1</td>\n",
       "      <td>0.715222</td>\n",
       "      <td>5.668368</td>\n",
       "      <td>1.299572</td>\n",
       "      <td>0.807662</td>\n",
       "      <td>1.081778</td>\n",
       "      <td>1.796590</td>\n",
       "    </tr>\n",
       "    <tr>\n",
       "      <td>2</td>\n",
       "      <td>305971</td>\n",
       "      <td>1</td>\n",
       "      <td>4</td>\n",
       "      <td>10</td>\n",
       "      <td>4</td>\n",
       "      <td>5</td>\n",
       "      <td>4</td>\n",
       "      <td>1</td>\n",
       "      <td>4</td>\n",
       "      <td>1</td>\n",
       "      <td>3</td>\n",
       "      <td>0.764933</td>\n",
       "      <td>-0.750782</td>\n",
       "      <td>0.434027</td>\n",
       "      <td>-0.390342</td>\n",
       "      <td>-0.969416</td>\n",
       "      <td>1.796590</td>\n",
       "    </tr>\n",
       "    <tr>\n",
       "      <td>3</td>\n",
       "      <td>305664</td>\n",
       "      <td>1</td>\n",
       "      <td>5</td>\n",
       "      <td>14</td>\n",
       "      <td>2</td>\n",
       "      <td>2</td>\n",
       "      <td>5</td>\n",
       "      <td>3</td>\n",
       "      <td>3</td>\n",
       "      <td>1</td>\n",
       "      <td>1</td>\n",
       "      <td>-1.347818</td>\n",
       "      <td>-0.852651</td>\n",
       "      <td>-0.490122</td>\n",
       "      <td>-0.989344</td>\n",
       "      <td>1.046303</td>\n",
       "      <td>-0.768631</td>\n",
       "    </tr>\n",
       "    <tr>\n",
       "      <td>4</td>\n",
       "      <td>305639</td>\n",
       "      <td>1</td>\n",
       "      <td>4</td>\n",
       "      <td>15</td>\n",
       "      <td>1</td>\n",
       "      <td>5</td>\n",
       "      <td>4</td>\n",
       "      <td>1</td>\n",
       "      <td>3</td>\n",
       "      <td>1</td>\n",
       "      <td>2</td>\n",
       "      <td>1.634890</td>\n",
       "      <td>3.200955</td>\n",
       "      <td>0.561380</td>\n",
       "      <td>0.583036</td>\n",
       "      <td>0.088464</td>\n",
       "      <td>1.796590</td>\n",
       "    </tr>\n",
       "  </tbody>\n",
       "</table>\n",
       "</div>"
      ],
      "text/plain": [
       "       ID  V1  V2  V3  V4  V5  V6  V7 V8  Has_FICO  Business_channel  \\\n",
       "0  305932   3   3  14   2   1   5   1  1         1                 1   \n",
       "1  305764   1   4   7   1   6   4   1  2         1                 1   \n",
       "2  305971   1   4  10   4   5   4   1  4         1                 3   \n",
       "3  305664   1   5  14   2   2   5   3  3         1                 1   \n",
       "4  305639   1   4  15   1   5   4   1  3         1                 2   \n",
       "\n",
       "   FICO_Score  Loan_amount  Monthly_income       Age  Gearing_coefficient  \\\n",
       "0   -0.030455    -0.323920       -0.605449 -1.064220             1.028210   \n",
       "1    0.715222     5.668368        1.299572  0.807662             1.081778   \n",
       "2    0.764933    -0.750782        0.434027 -0.390342            -0.969416   \n",
       "3   -1.347818    -0.852651       -0.490122 -0.989344             1.046303   \n",
       "4    1.634890     3.200955        0.561380  0.583036             0.088464   \n",
       "\n",
       "   Max_gearing_ratio  \n",
       "0          -0.768631  \n",
       "1           1.796590  \n",
       "2           1.796590  \n",
       "3          -0.768631  \n",
       "4           1.796590  "
      ]
     },
     "execution_count": 180,
     "metadata": {},
     "output_type": "execute_result"
    }
   ],
   "source": [
    "rejects.head()"
   ]
  },
  {
   "cell_type": "markdown",
   "metadata": {},
   "source": [
    "# 2 Data Processing "
   ]
  },
  {
   "cell_type": "markdown",
   "metadata": {},
   "source": [
    "### Drop the column we can't use"
   ]
  },
  {
   "cell_type": "code",
   "execution_count": 181,
   "metadata": {},
   "outputs": [],
   "source": [
    "accepts = accepts.drop([\"Days_late\"], axis=1)"
   ]
  },
  {
   "cell_type": "code",
   "execution_count": 182,
   "metadata": {},
   "outputs": [
    {
     "data": {
      "text/html": [
       "<div>\n",
       "<style scoped>\n",
       "    .dataframe tbody tr th:only-of-type {\n",
       "        vertical-align: middle;\n",
       "    }\n",
       "\n",
       "    .dataframe tbody tr th {\n",
       "        vertical-align: top;\n",
       "    }\n",
       "\n",
       "    .dataframe thead th {\n",
       "        text-align: right;\n",
       "    }\n",
       "</style>\n",
       "<table border=\"1\" class=\"dataframe\">\n",
       "  <thead>\n",
       "    <tr style=\"text-align: right;\">\n",
       "      <th></th>\n",
       "      <th>ID</th>\n",
       "      <th>V1</th>\n",
       "      <th>V2</th>\n",
       "      <th>V3</th>\n",
       "      <th>V4</th>\n",
       "      <th>V5</th>\n",
       "      <th>V6</th>\n",
       "      <th>V7</th>\n",
       "      <th>V8</th>\n",
       "      <th>Has_FICO</th>\n",
       "      <th>Business_channel</th>\n",
       "      <th>FICO_Score</th>\n",
       "      <th>Loan_amount</th>\n",
       "      <th>Monthly_income</th>\n",
       "      <th>Age</th>\n",
       "      <th>Gearing_coefficient</th>\n",
       "      <th>Max_gearing_ratio</th>\n",
       "      <th>Default_45</th>\n",
       "    </tr>\n",
       "  </thead>\n",
       "  <tbody>\n",
       "    <tr>\n",
       "      <td>0</td>\n",
       "      <td>250263</td>\n",
       "      <td>1</td>\n",
       "      <td>1</td>\n",
       "      <td>11</td>\n",
       "      <td>5</td>\n",
       "      <td>6</td>\n",
       "      <td>7</td>\n",
       "      <td>1</td>\n",
       "      <td>2</td>\n",
       "      <td>0</td>\n",
       "      <td>1</td>\n",
       "      <td>NaN</td>\n",
       "      <td>1.438518</td>\n",
       "      <td>-0.259085</td>\n",
       "      <td>1.781040</td>\n",
       "      <td>0.860269</td>\n",
       "      <td>0.513980</td>\n",
       "      <td>0</td>\n",
       "    </tr>\n",
       "    <tr>\n",
       "      <td>1</td>\n",
       "      <td>250290</td>\n",
       "      <td>1</td>\n",
       "      <td>2</td>\n",
       "      <td>6</td>\n",
       "      <td>4</td>\n",
       "      <td>5</td>\n",
       "      <td>1</td>\n",
       "      <td>1</td>\n",
       "      <td>2</td>\n",
       "      <td>1</td>\n",
       "      <td>1</td>\n",
       "      <td>1.498183</td>\n",
       "      <td>0.204811</td>\n",
       "      <td>0.383312</td>\n",
       "      <td>1.107163</td>\n",
       "      <td>-0.718249</td>\n",
       "      <td>1.796590</td>\n",
       "      <td>0</td>\n",
       "    </tr>\n",
       "    <tr>\n",
       "      <td>2</td>\n",
       "      <td>250249</td>\n",
       "      <td>2</td>\n",
       "      <td>3</td>\n",
       "      <td>11</td>\n",
       "      <td>5</td>\n",
       "      <td>7</td>\n",
       "      <td>7</td>\n",
       "      <td>1</td>\n",
       "      <td>2</td>\n",
       "      <td>1</td>\n",
       "      <td>1</td>\n",
       "      <td>-0.241731</td>\n",
       "      <td>-0.852651</td>\n",
       "      <td>-0.732430</td>\n",
       "      <td>1.406664</td>\n",
       "      <td>1.122930</td>\n",
       "      <td>-0.768631</td>\n",
       "      <td>0</td>\n",
       "    </tr>\n",
       "    <tr>\n",
       "      <td>3</td>\n",
       "      <td>249516</td>\n",
       "      <td>3</td>\n",
       "      <td>3</td>\n",
       "      <td>10</td>\n",
       "      <td>4</td>\n",
       "      <td>2</td>\n",
       "      <td>4</td>\n",
       "      <td>1</td>\n",
       "      <td>2</td>\n",
       "      <td>0</td>\n",
       "      <td>1</td>\n",
       "      <td>NaN</td>\n",
       "      <td>-0.676407</td>\n",
       "      <td>-0.057350</td>\n",
       "      <td>0.957412</td>\n",
       "      <td>-1.702482</td>\n",
       "      <td>0.513980</td>\n",
       "      <td>1</td>\n",
       "    </tr>\n",
       "    <tr>\n",
       "      <td>4</td>\n",
       "      <td>249827</td>\n",
       "      <td>1</td>\n",
       "      <td>3</td>\n",
       "      <td>5</td>\n",
       "      <td>2</td>\n",
       "      <td>4</td>\n",
       "      <td>4</td>\n",
       "      <td>1</td>\n",
       "      <td>3</td>\n",
       "      <td>0</td>\n",
       "      <td>1</td>\n",
       "      <td>NaN</td>\n",
       "      <td>-0.412042</td>\n",
       "      <td>-0.574648</td>\n",
       "      <td>-0.390342</td>\n",
       "      <td>0.910077</td>\n",
       "      <td>-0.768631</td>\n",
       "      <td>0</td>\n",
       "    </tr>\n",
       "  </tbody>\n",
       "</table>\n",
       "</div>"
      ],
      "text/plain": [
       "       ID  V1  V2  V3  V4  V5  V6  V7 V8  Has_FICO  Business_channel  \\\n",
       "0  250263   1   1  11   5   6   7   1  2         0                 1   \n",
       "1  250290   1   2   6   4   5   1   1  2         1                 1   \n",
       "2  250249   2   3  11   5   7   7   1  2         1                 1   \n",
       "3  249516   3   3  10   4   2   4   1  2         0                 1   \n",
       "4  249827   1   3   5   2   4   4   1  3         0                 1   \n",
       "\n",
       "   FICO_Score  Loan_amount  Monthly_income       Age  Gearing_coefficient  \\\n",
       "0         NaN     1.438518       -0.259085  1.781040             0.860269   \n",
       "1    1.498183     0.204811        0.383312  1.107163            -0.718249   \n",
       "2   -0.241731    -0.852651       -0.732430  1.406664             1.122930   \n",
       "3         NaN    -0.676407       -0.057350  0.957412            -1.702482   \n",
       "4         NaN    -0.412042       -0.574648 -0.390342             0.910077   \n",
       "\n",
       "   Max_gearing_ratio  Default_45  \n",
       "0           0.513980           0  \n",
       "1           1.796590           0  \n",
       "2          -0.768631           0  \n",
       "3           0.513980           1  \n",
       "4          -0.768631           0  "
      ]
     },
     "execution_count": 182,
     "metadata": {},
     "output_type": "execute_result"
    }
   ],
   "source": [
    "accepts.head()"
   ]
  },
  {
   "cell_type": "markdown",
   "metadata": {},
   "source": [
    "### Get an overview of the values in each column"
   ]
  },
  {
   "cell_type": "code",
   "execution_count": 183,
   "metadata": {},
   "outputs": [
    {
     "data": {
      "text/html": [
       "<div>\n",
       "<style scoped>\n",
       "    .dataframe tbody tr th:only-of-type {\n",
       "        vertical-align: middle;\n",
       "    }\n",
       "\n",
       "    .dataframe tbody tr th {\n",
       "        vertical-align: top;\n",
       "    }\n",
       "\n",
       "    .dataframe thead th {\n",
       "        text-align: right;\n",
       "    }\n",
       "</style>\n",
       "<table border=\"1\" class=\"dataframe\">\n",
       "  <thead>\n",
       "    <tr style=\"text-align: right;\">\n",
       "      <th></th>\n",
       "      <th>ID</th>\n",
       "      <th>V1</th>\n",
       "      <th>V2</th>\n",
       "      <th>V3</th>\n",
       "      <th>V4</th>\n",
       "      <th>V5</th>\n",
       "      <th>V6</th>\n",
       "      <th>V7</th>\n",
       "      <th>Has_FICO</th>\n",
       "      <th>Business_channel</th>\n",
       "      <th>FICO_Score</th>\n",
       "      <th>Loan_amount</th>\n",
       "      <th>Monthly_income</th>\n",
       "      <th>Age</th>\n",
       "      <th>Gearing_coefficient</th>\n",
       "      <th>Max_gearing_ratio</th>\n",
       "      <th>Default_45</th>\n",
       "    </tr>\n",
       "  </thead>\n",
       "  <tbody>\n",
       "    <tr>\n",
       "      <td>count</td>\n",
       "      <td>10000.00000</td>\n",
       "      <td>10000.000000</td>\n",
       "      <td>10000.00000</td>\n",
       "      <td>10000.000000</td>\n",
       "      <td>10000.000000</td>\n",
       "      <td>10000.00000</td>\n",
       "      <td>10000.000000</td>\n",
       "      <td>10000.000000</td>\n",
       "      <td>10000.000000</td>\n",
       "      <td>10000.000000</td>\n",
       "      <td>5528.000000</td>\n",
       "      <td>10000.000000</td>\n",
       "      <td>10000.000000</td>\n",
       "      <td>10000.000000</td>\n",
       "      <td>10000.000000</td>\n",
       "      <td>10000.000000</td>\n",
       "      <td>10000.000000</td>\n",
       "    </tr>\n",
       "    <tr>\n",
       "      <td>mean</td>\n",
       "      <td>282247.99760</td>\n",
       "      <td>1.878700</td>\n",
       "      <td>3.49540</td>\n",
       "      <td>9.041400</td>\n",
       "      <td>3.316200</td>\n",
       "      <td>3.97740</td>\n",
       "      <td>4.868300</td>\n",
       "      <td>1.757200</td>\n",
       "      <td>0.552800</td>\n",
       "      <td>1.403200</td>\n",
       "      <td>-0.083256</td>\n",
       "      <td>0.034164</td>\n",
       "      <td>-0.119329</td>\n",
       "      <td>-0.003147</td>\n",
       "      <td>0.100456</td>\n",
       "      <td>0.019662</td>\n",
       "      <td>0.236400</td>\n",
       "    </tr>\n",
       "    <tr>\n",
       "      <td>std</td>\n",
       "      <td>15871.15137</td>\n",
       "      <td>1.092385</td>\n",
       "      <td>1.20877</td>\n",
       "      <td>3.723207</td>\n",
       "      <td>1.361618</td>\n",
       "      <td>2.03664</td>\n",
       "      <td>1.378675</td>\n",
       "      <td>0.958927</td>\n",
       "      <td>0.497229</td>\n",
       "      <td>0.655342</td>\n",
       "      <td>1.016782</td>\n",
       "      <td>1.050937</td>\n",
       "      <td>1.020399</td>\n",
       "      <td>1.019526</td>\n",
       "      <td>0.971090</td>\n",
       "      <td>1.015233</td>\n",
       "      <td>0.424892</td>\n",
       "    </tr>\n",
       "    <tr>\n",
       "      <td>min</td>\n",
       "      <td>249516.00000</td>\n",
       "      <td>1.000000</td>\n",
       "      <td>1.00000</td>\n",
       "      <td>1.000000</td>\n",
       "      <td>1.000000</td>\n",
       "      <td>1.00000</td>\n",
       "      <td>1.000000</td>\n",
       "      <td>1.000000</td>\n",
       "      <td>0.000000</td>\n",
       "      <td>1.000000</td>\n",
       "      <td>-6.033156</td>\n",
       "      <td>-1.117017</td>\n",
       "      <td>-0.984880</td>\n",
       "      <td>-1.588346</td>\n",
       "      <td>-2.859551</td>\n",
       "      <td>-0.768631</td>\n",
       "      <td>0.000000</td>\n",
       "    </tr>\n",
       "    <tr>\n",
       "      <td>25%</td>\n",
       "      <td>269470.25000</td>\n",
       "      <td>1.000000</td>\n",
       "      <td>3.00000</td>\n",
       "      <td>7.000000</td>\n",
       "      <td>2.000000</td>\n",
       "      <td>2.00000</td>\n",
       "      <td>4.000000</td>\n",
       "      <td>1.000000</td>\n",
       "      <td>0.000000</td>\n",
       "      <td>1.000000</td>\n",
       "      <td>-0.875556</td>\n",
       "      <td>-0.641159</td>\n",
       "      <td>-0.536330</td>\n",
       "      <td>-0.914469</td>\n",
       "      <td>-0.614537</td>\n",
       "      <td>-0.768631</td>\n",
       "      <td>0.000000</td>\n",
       "    </tr>\n",
       "    <tr>\n",
       "      <td>50%</td>\n",
       "      <td>284845.00000</td>\n",
       "      <td>1.000000</td>\n",
       "      <td>3.00000</td>\n",
       "      <td>10.000000</td>\n",
       "      <td>4.000000</td>\n",
       "      <td>4.00000</td>\n",
       "      <td>5.000000</td>\n",
       "      <td>1.000000</td>\n",
       "      <td>1.000000</td>\n",
       "      <td>1.000000</td>\n",
       "      <td>-0.192019</td>\n",
       "      <td>-0.323920</td>\n",
       "      <td>-0.359389</td>\n",
       "      <td>-0.165717</td>\n",
       "      <td>0.414129</td>\n",
       "      <td>-0.768631</td>\n",
       "      <td>0.000000</td>\n",
       "    </tr>\n",
       "    <tr>\n",
       "      <td>75%</td>\n",
       "      <td>296044.75000</td>\n",
       "      <td>3.000000</td>\n",
       "      <td>5.00000</td>\n",
       "      <td>11.000000</td>\n",
       "      <td>4.000000</td>\n",
       "      <td>6.00000</td>\n",
       "      <td>5.000000</td>\n",
       "      <td>3.000000</td>\n",
       "      <td>1.000000</td>\n",
       "      <td>2.000000</td>\n",
       "      <td>0.690366</td>\n",
       "      <td>0.381055</td>\n",
       "      <td>0.056479</td>\n",
       "      <td>0.882537</td>\n",
       "      <td>0.965099</td>\n",
       "      <td>0.513980</td>\n",
       "      <td>0.000000</td>\n",
       "    </tr>\n",
       "    <tr>\n",
       "      <td>max</td>\n",
       "      <td>305957.00000</td>\n",
       "      <td>5.000000</td>\n",
       "      <td>6.00000</td>\n",
       "      <td>16.000000</td>\n",
       "      <td>6.000000</td>\n",
       "      <td>7.00000</td>\n",
       "      <td>7.000000</td>\n",
       "      <td>3.000000</td>\n",
       "      <td>1.000000</td>\n",
       "      <td>3.000000</td>\n",
       "      <td>2.467563</td>\n",
       "      <td>5.844611</td>\n",
       "      <td>43.842002</td>\n",
       "      <td>2.005666</td>\n",
       "      <td>9.387304</td>\n",
       "      <td>1.796590</td>\n",
       "      <td>1.000000</td>\n",
       "    </tr>\n",
       "  </tbody>\n",
       "</table>\n",
       "</div>"
      ],
      "text/plain": [
       "                 ID            V1           V2            V3            V4  \\\n",
       "count   10000.00000  10000.000000  10000.00000  10000.000000  10000.000000   \n",
       "mean   282247.99760      1.878700      3.49540      9.041400      3.316200   \n",
       "std     15871.15137      1.092385      1.20877      3.723207      1.361618   \n",
       "min    249516.00000      1.000000      1.00000      1.000000      1.000000   \n",
       "25%    269470.25000      1.000000      3.00000      7.000000      2.000000   \n",
       "50%    284845.00000      1.000000      3.00000     10.000000      4.000000   \n",
       "75%    296044.75000      3.000000      5.00000     11.000000      4.000000   \n",
       "max    305957.00000      5.000000      6.00000     16.000000      6.000000   \n",
       "\n",
       "                V5            V6            V7      Has_FICO  \\\n",
       "count  10000.00000  10000.000000  10000.000000  10000.000000   \n",
       "mean       3.97740      4.868300      1.757200      0.552800   \n",
       "std        2.03664      1.378675      0.958927      0.497229   \n",
       "min        1.00000      1.000000      1.000000      0.000000   \n",
       "25%        2.00000      4.000000      1.000000      0.000000   \n",
       "50%        4.00000      5.000000      1.000000      1.000000   \n",
       "75%        6.00000      5.000000      3.000000      1.000000   \n",
       "max        7.00000      7.000000      3.000000      1.000000   \n",
       "\n",
       "       Business_channel   FICO_Score   Loan_amount  Monthly_income  \\\n",
       "count      10000.000000  5528.000000  10000.000000    10000.000000   \n",
       "mean           1.403200    -0.083256      0.034164       -0.119329   \n",
       "std            0.655342     1.016782      1.050937        1.020399   \n",
       "min            1.000000    -6.033156     -1.117017       -0.984880   \n",
       "25%            1.000000    -0.875556     -0.641159       -0.536330   \n",
       "50%            1.000000    -0.192019     -0.323920       -0.359389   \n",
       "75%            2.000000     0.690366      0.381055        0.056479   \n",
       "max            3.000000     2.467563      5.844611       43.842002   \n",
       "\n",
       "                Age  Gearing_coefficient  Max_gearing_ratio    Default_45  \n",
       "count  10000.000000         10000.000000       10000.000000  10000.000000  \n",
       "mean      -0.003147             0.100456           0.019662      0.236400  \n",
       "std        1.019526             0.971090           1.015233      0.424892  \n",
       "min       -1.588346            -2.859551          -0.768631      0.000000  \n",
       "25%       -0.914469            -0.614537          -0.768631      0.000000  \n",
       "50%       -0.165717             0.414129          -0.768631      0.000000  \n",
       "75%        0.882537             0.965099           0.513980      0.000000  \n",
       "max        2.005666             9.387304           1.796590      1.000000  "
      ]
     },
     "execution_count": 183,
     "metadata": {},
     "output_type": "execute_result"
    }
   ],
   "source": [
    "accepts.describe()"
   ]
  },
  {
   "cell_type": "code",
   "execution_count": 184,
   "metadata": {},
   "outputs": [
    {
     "data": {
      "text/html": [
       "<div>\n",
       "<style scoped>\n",
       "    .dataframe tbody tr th:only-of-type {\n",
       "        vertical-align: middle;\n",
       "    }\n",
       "\n",
       "    .dataframe tbody tr th {\n",
       "        vertical-align: top;\n",
       "    }\n",
       "\n",
       "    .dataframe thead th {\n",
       "        text-align: right;\n",
       "    }\n",
       "</style>\n",
       "<table border=\"1\" class=\"dataframe\">\n",
       "  <thead>\n",
       "    <tr style=\"text-align: right;\">\n",
       "      <th></th>\n",
       "      <th>ID</th>\n",
       "      <th>V1</th>\n",
       "      <th>V2</th>\n",
       "      <th>V3</th>\n",
       "      <th>V4</th>\n",
       "      <th>V5</th>\n",
       "      <th>V6</th>\n",
       "      <th>V7</th>\n",
       "      <th>Has_FICO</th>\n",
       "      <th>Business_channel</th>\n",
       "      <th>FICO_Score</th>\n",
       "      <th>Loan_amount</th>\n",
       "      <th>Monthly_income</th>\n",
       "      <th>Age</th>\n",
       "      <th>Gearing_coefficient</th>\n",
       "      <th>Max_gearing_ratio</th>\n",
       "    </tr>\n",
       "  </thead>\n",
       "  <tbody>\n",
       "    <tr>\n",
       "      <td>count</td>\n",
       "      <td>5000.000000</td>\n",
       "      <td>5000.000000</td>\n",
       "      <td>5000.000000</td>\n",
       "      <td>5000.000000</td>\n",
       "      <td>5000.000000</td>\n",
       "      <td>5000.000000</td>\n",
       "      <td>5000.000000</td>\n",
       "      <td>5000.000000</td>\n",
       "      <td>5000.000000</td>\n",
       "      <td>5000.0000</td>\n",
       "      <td>2914.000000</td>\n",
       "      <td>5000.000000</td>\n",
       "      <td>5000.000000</td>\n",
       "      <td>5000.000000</td>\n",
       "      <td>5000.000000</td>\n",
       "      <td>5000.000000</td>\n",
       "    </tr>\n",
       "    <tr>\n",
       "      <td>mean</td>\n",
       "      <td>315743.499200</td>\n",
       "      <td>1.863600</td>\n",
       "      <td>3.514200</td>\n",
       "      <td>8.558800</td>\n",
       "      <td>3.209800</td>\n",
       "      <td>3.633600</td>\n",
       "      <td>4.698000</td>\n",
       "      <td>1.871000</td>\n",
       "      <td>0.582800</td>\n",
       "      <td>1.2822</td>\n",
       "      <td>0.031224</td>\n",
       "      <td>-0.043453</td>\n",
       "      <td>0.097306</td>\n",
       "      <td>-0.058585</td>\n",
       "      <td>-0.110717</td>\n",
       "      <td>0.143562</td>\n",
       "    </tr>\n",
       "    <tr>\n",
       "      <td>std</td>\n",
       "      <td>5778.293646</td>\n",
       "      <td>1.082603</td>\n",
       "      <td>1.246318</td>\n",
       "      <td>3.937314</td>\n",
       "      <td>1.316864</td>\n",
       "      <td>1.972442</td>\n",
       "      <td>1.196613</td>\n",
       "      <td>0.978647</td>\n",
       "      <td>0.493146</td>\n",
       "      <td>0.6380</td>\n",
       "      <td>0.975742</td>\n",
       "      <td>0.952493</td>\n",
       "      <td>0.972333</td>\n",
       "      <td>0.976694</td>\n",
       "      <td>1.026137</td>\n",
       "      <td>1.037191</td>\n",
       "    </tr>\n",
       "    <tr>\n",
       "      <td>min</td>\n",
       "      <td>286878.000000</td>\n",
       "      <td>1.000000</td>\n",
       "      <td>1.000000</td>\n",
       "      <td>1.000000</td>\n",
       "      <td>1.000000</td>\n",
       "      <td>1.000000</td>\n",
       "      <td>1.000000</td>\n",
       "      <td>1.000000</td>\n",
       "      <td>0.000000</td>\n",
       "      <td>1.0000</td>\n",
       "      <td>-2.714893</td>\n",
       "      <td>-1.117017</td>\n",
       "      <td>-0.703127</td>\n",
       "      <td>-1.588346</td>\n",
       "      <td>-2.869484</td>\n",
       "      <td>-0.768631</td>\n",
       "    </tr>\n",
       "    <tr>\n",
       "      <td>25%</td>\n",
       "      <td>310660.750000</td>\n",
       "      <td>1.000000</td>\n",
       "      <td>3.000000</td>\n",
       "      <td>5.000000</td>\n",
       "      <td>2.000000</td>\n",
       "      <td>2.000000</td>\n",
       "      <td>4.000000</td>\n",
       "      <td>1.000000</td>\n",
       "      <td>0.000000</td>\n",
       "      <td>1.0000</td>\n",
       "      <td>-0.751277</td>\n",
       "      <td>-0.676407</td>\n",
       "      <td>-0.402215</td>\n",
       "      <td>-0.914469</td>\n",
       "      <td>-0.923333</td>\n",
       "      <td>-0.768631</td>\n",
       "    </tr>\n",
       "    <tr>\n",
       "      <td>50%</td>\n",
       "      <td>315932.000000</td>\n",
       "      <td>1.000000</td>\n",
       "      <td>4.000000</td>\n",
       "      <td>10.000000</td>\n",
       "      <td>4.000000</td>\n",
       "      <td>3.000000</td>\n",
       "      <td>5.000000</td>\n",
       "      <td>1.000000</td>\n",
       "      <td>1.000000</td>\n",
       "      <td>1.0000</td>\n",
       "      <td>-0.030455</td>\n",
       "      <td>-0.323920</td>\n",
       "      <td>-0.161035</td>\n",
       "      <td>-0.165717</td>\n",
       "      <td>0.081724</td>\n",
       "      <td>-0.768631</td>\n",
       "    </tr>\n",
       "    <tr>\n",
       "      <td>75%</td>\n",
       "      <td>320834.250000</td>\n",
       "      <td>3.000000</td>\n",
       "      <td>5.000000</td>\n",
       "      <td>11.000000</td>\n",
       "      <td>4.000000</td>\n",
       "      <td>5.000000</td>\n",
       "      <td>5.000000</td>\n",
       "      <td>3.000000</td>\n",
       "      <td>1.000000</td>\n",
       "      <td>1.0000</td>\n",
       "      <td>0.777361</td>\n",
       "      <td>0.292933</td>\n",
       "      <td>0.290897</td>\n",
       "      <td>0.583036</td>\n",
       "      <td>0.813654</td>\n",
       "      <td>0.513980</td>\n",
       "    </tr>\n",
       "    <tr>\n",
       "      <td>max</td>\n",
       "      <td>325624.000000</td>\n",
       "      <td>5.000000</td>\n",
       "      <td>5.000000</td>\n",
       "      <td>15.000000</td>\n",
       "      <td>5.000000</td>\n",
       "      <td>7.000000</td>\n",
       "      <td>7.000000</td>\n",
       "      <td>3.000000</td>\n",
       "      <td>1.000000</td>\n",
       "      <td>3.0000</td>\n",
       "      <td>2.442707</td>\n",
       "      <td>5.844611</td>\n",
       "      <td>29.318205</td>\n",
       "      <td>2.080541</td>\n",
       "      <td>2.199966</td>\n",
       "      <td>1.796590</td>\n",
       "    </tr>\n",
       "  </tbody>\n",
       "</table>\n",
       "</div>"
      ],
      "text/plain": [
       "                  ID           V1           V2           V3           V4  \\\n",
       "count    5000.000000  5000.000000  5000.000000  5000.000000  5000.000000   \n",
       "mean   315743.499200     1.863600     3.514200     8.558800     3.209800   \n",
       "std      5778.293646     1.082603     1.246318     3.937314     1.316864   \n",
       "min    286878.000000     1.000000     1.000000     1.000000     1.000000   \n",
       "25%    310660.750000     1.000000     3.000000     5.000000     2.000000   \n",
       "50%    315932.000000     1.000000     4.000000    10.000000     4.000000   \n",
       "75%    320834.250000     3.000000     5.000000    11.000000     4.000000   \n",
       "max    325624.000000     5.000000     5.000000    15.000000     5.000000   \n",
       "\n",
       "                V5           V6           V7     Has_FICO  Business_channel  \\\n",
       "count  5000.000000  5000.000000  5000.000000  5000.000000         5000.0000   \n",
       "mean      3.633600     4.698000     1.871000     0.582800            1.2822   \n",
       "std       1.972442     1.196613     0.978647     0.493146            0.6380   \n",
       "min       1.000000     1.000000     1.000000     0.000000            1.0000   \n",
       "25%       2.000000     4.000000     1.000000     0.000000            1.0000   \n",
       "50%       3.000000     5.000000     1.000000     1.000000            1.0000   \n",
       "75%       5.000000     5.000000     3.000000     1.000000            1.0000   \n",
       "max       7.000000     7.000000     3.000000     1.000000            3.0000   \n",
       "\n",
       "        FICO_Score  Loan_amount  Monthly_income          Age  \\\n",
       "count  2914.000000  5000.000000     5000.000000  5000.000000   \n",
       "mean      0.031224    -0.043453        0.097306    -0.058585   \n",
       "std       0.975742     0.952493        0.972333     0.976694   \n",
       "min      -2.714893    -1.117017       -0.703127    -1.588346   \n",
       "25%      -0.751277    -0.676407       -0.402215    -0.914469   \n",
       "50%      -0.030455    -0.323920       -0.161035    -0.165717   \n",
       "75%       0.777361     0.292933        0.290897     0.583036   \n",
       "max       2.442707     5.844611       29.318205     2.080541   \n",
       "\n",
       "       Gearing_coefficient  Max_gearing_ratio  \n",
       "count          5000.000000        5000.000000  \n",
       "mean             -0.110717           0.143562  \n",
       "std               1.026137           1.037191  \n",
       "min              -2.869484          -0.768631  \n",
       "25%              -0.923333          -0.768631  \n",
       "50%               0.081724          -0.768631  \n",
       "75%               0.813654           0.513980  \n",
       "max               2.199966           1.796590  "
      ]
     },
     "execution_count": 184,
     "metadata": {},
     "output_type": "execute_result"
    }
   ],
   "source": [
    "rejects.describe()"
   ]
  },
  {
   "cell_type": "markdown",
   "metadata": {},
   "source": [
    "### We have 4478 and 2086 missing values in FICO_score of accepts and rejects respectively. "
   ]
  },
  {
   "cell_type": "markdown",
   "metadata": {},
   "source": [
    "### Check types of each column"
   ]
  },
  {
   "cell_type": "code",
   "execution_count": 185,
   "metadata": {},
   "outputs": [
    {
     "data": {
      "text/plain": [
       "ID                       int64\n",
       "V1                       int64\n",
       "V2                       int64\n",
       "V3                       int64\n",
       "V4                       int64\n",
       "V5                       int64\n",
       "V6                       int64\n",
       "V7                       int64\n",
       "V8                      object\n",
       "Has_FICO                 int64\n",
       "Business_channel         int64\n",
       "FICO_Score             float64\n",
       "Loan_amount            float64\n",
       "Monthly_income         float64\n",
       "Age                    float64\n",
       "Gearing_coefficient    float64\n",
       "Max_gearing_ratio      float64\n",
       "Default_45               int64\n",
       "dtype: object"
      ]
     },
     "execution_count": 185,
     "metadata": {},
     "output_type": "execute_result"
    }
   ],
   "source": [
    "accepts.dtypes"
   ]
  },
  {
   "cell_type": "code",
   "execution_count": 186,
   "metadata": {},
   "outputs": [
    {
     "data": {
      "text/plain": [
       "ID                       int64\n",
       "V1                       int64\n",
       "V2                       int64\n",
       "V3                       int64\n",
       "V4                       int64\n",
       "V5                       int64\n",
       "V6                       int64\n",
       "V7                       int64\n",
       "V8                      object\n",
       "Has_FICO                 int64\n",
       "Business_channel         int64\n",
       "FICO_Score             float64\n",
       "Loan_amount            float64\n",
       "Monthly_income         float64\n",
       "Age                    float64\n",
       "Gearing_coefficient    float64\n",
       "Max_gearing_ratio      float64\n",
       "dtype: object"
      ]
     },
     "execution_count": 186,
     "metadata": {},
     "output_type": "execute_result"
    }
   ],
   "source": [
    "rejects.dtypes"
   ]
  },
  {
   "cell_type": "markdown",
   "metadata": {},
   "source": [
    "### The type of V8 is object, whcih means it may has different types of value. we will use unique to find out and handle it"
   ]
  },
  {
   "cell_type": "code",
   "execution_count": 187,
   "metadata": {},
   "outputs": [
    {
     "data": {
      "text/plain": [
       "array(['2', '3', '4', '1', '>4'], dtype=object)"
      ]
     },
     "execution_count": 187,
     "metadata": {},
     "output_type": "execute_result"
    }
   ],
   "source": [
    "accepts.V8.unique()"
   ]
  },
  {
   "cell_type": "code",
   "execution_count": 188,
   "metadata": {},
   "outputs": [
    {
     "data": {
      "text/plain": [
       "array(['1', '2', '4', '3', '>4'], dtype=object)"
      ]
     },
     "execution_count": 188,
     "metadata": {},
     "output_type": "execute_result"
    }
   ],
   "source": [
    "rejects.V8.unique()"
   ]
  },
  {
   "cell_type": "markdown",
   "metadata": {},
   "source": [
    "### To unify the type of V8, we convert '>4' to 6"
   ]
  },
  {
   "cell_type": "code",
   "execution_count": 189,
   "metadata": {},
   "outputs": [],
   "source": [
    "accepts.loc[accepts['V8'] == '>4','V8'] = 6"
   ]
  },
  {
   "cell_type": "code",
   "execution_count": 190,
   "metadata": {},
   "outputs": [],
   "source": [
    "rejects.loc[rejects['V8'] == '>4','V8'] = 6"
   ]
  },
  {
   "cell_type": "markdown",
   "metadata": {},
   "source": [
    "### Based on the resluts, we have a large amount of missing values of  \"FICO_Score\". We will use random forest to predict the missing value and then complete them."
   ]
  },
  {
   "cell_type": "code",
   "execution_count": 191,
   "metadata": {},
   "outputs": [],
   "source": [
    "# Define the function to implement random forest model to predict the missing values\n",
    "def set_missing(df):\n",
    "    # Select the variables we can use to in the modeling \n",
    "    process_df = df.iloc[:,[11,1,2,3,4,5,6,7,8,9,10,12,13,14,15,16]]\n",
    "    # split the variables without missing values\n",
    "    known = process_df[process_df.FICO_Score.notnull()]\n",
    "    unknown = process_df[process_df.FICO_Score.isnull()]\n",
    "    # Define the predictors\n",
    "    X = known.iloc[:, 1:]\n",
    "    # Defint the target variable\n",
    "    y = known.iloc[:, 0]\n",
    "    # Define Random forest model and fit it\n",
    "    rfr = RandomForestRegressor(random_state=0, \n",
    "    n_estimators=200,max_depth=3,n_jobs=-1)\n",
    "    rfr.fit(X,y)\n",
    "    # Make predictions\n",
    "    predicted = rfr.predict(unknown.iloc[:, 1:])\n",
    "    print(predicted)\n",
    "    # Fill missing values with predictions\n",
    "    df.loc[(df.FICO_Score.isnull()), 'FICO_Score'] = predicted.round(0)\n",
    "    #df.FICO_Score = df.FICO_Score.astype(int)\n",
    "    return df"
   ]
  },
  {
   "cell_type": "code",
   "execution_count": 192,
   "metadata": {},
   "outputs": [
    {
     "name": "stdout",
     "output_type": "stream",
     "text": [
      "[ 0.49717188  0.16386461 -0.44126474 ... -0.29718478 -0.99994989\n",
      "  0.19557857]\n"
     ]
    }
   ],
   "source": [
    "accepts = set_missing(accepts)"
   ]
  },
  {
   "cell_type": "code",
   "execution_count": 193,
   "metadata": {},
   "outputs": [
    {
     "name": "stdout",
     "output_type": "stream",
     "text": [
      "[ 0.71967433  0.65958485  0.09526396 ... -0.78055125  0.05323299\n",
      "  0.03826001]\n"
     ]
    }
   ],
   "source": [
    "rejects = set_missing(rejects)"
   ]
  },
  {
   "cell_type": "markdown",
   "metadata": {},
   "source": [
    "### Remove unrelevant columns for further data processing"
   ]
  },
  {
   "cell_type": "code",
   "execution_count": 194,
   "metadata": {},
   "outputs": [],
   "source": [
    "process_ac = accepts.drop(['ID','Default_45'],axis = 1)"
   ]
  },
  {
   "cell_type": "code",
   "execution_count": 195,
   "metadata": {},
   "outputs": [],
   "source": [
    "process_re = rejects.drop(['ID'],axis = 1)"
   ]
  },
  {
   "cell_type": "code",
   "execution_count": 196,
   "metadata": {},
   "outputs": [],
   "source": [
    "#Convert the type of process_ac into flocat\n",
    "process_ac = pd.DataFrame(process_ac,dtype = \"float\")"
   ]
  },
  {
   "cell_type": "code",
   "execution_count": 197,
   "metadata": {},
   "outputs": [],
   "source": [
    "#Convert the type of process_re into flocat\n",
    "process_re = pd.DataFrame(process_re,dtype = \"float\")"
   ]
  },
  {
   "cell_type": "code",
   "execution_count": 198,
   "metadata": {},
   "outputs": [
    {
     "data": {
      "text/html": [
       "<div>\n",
       "<style scoped>\n",
       "    .dataframe tbody tr th:only-of-type {\n",
       "        vertical-align: middle;\n",
       "    }\n",
       "\n",
       "    .dataframe tbody tr th {\n",
       "        vertical-align: top;\n",
       "    }\n",
       "\n",
       "    .dataframe thead th {\n",
       "        text-align: right;\n",
       "    }\n",
       "</style>\n",
       "<table border=\"1\" class=\"dataframe\">\n",
       "  <thead>\n",
       "    <tr style=\"text-align: right;\">\n",
       "      <th></th>\n",
       "      <th>V1</th>\n",
       "      <th>V2</th>\n",
       "      <th>V3</th>\n",
       "      <th>V4</th>\n",
       "      <th>V5</th>\n",
       "      <th>V6</th>\n",
       "      <th>V7</th>\n",
       "      <th>V8</th>\n",
       "      <th>Has_FICO</th>\n",
       "      <th>Business_channel</th>\n",
       "      <th>FICO_Score</th>\n",
       "      <th>Loan_amount</th>\n",
       "      <th>Monthly_income</th>\n",
       "      <th>Age</th>\n",
       "      <th>Gearing_coefficient</th>\n",
       "      <th>Max_gearing_ratio</th>\n",
       "    </tr>\n",
       "  </thead>\n",
       "  <tbody>\n",
       "    <tr>\n",
       "      <td>0</td>\n",
       "      <td>1.0</td>\n",
       "      <td>1.0</td>\n",
       "      <td>11.0</td>\n",
       "      <td>5.0</td>\n",
       "      <td>6.0</td>\n",
       "      <td>7.0</td>\n",
       "      <td>1.0</td>\n",
       "      <td>2.0</td>\n",
       "      <td>0.0</td>\n",
       "      <td>1.0</td>\n",
       "      <td>0.000000</td>\n",
       "      <td>1.438518</td>\n",
       "      <td>-0.259085</td>\n",
       "      <td>1.781040</td>\n",
       "      <td>0.860269</td>\n",
       "      <td>0.513980</td>\n",
       "    </tr>\n",
       "    <tr>\n",
       "      <td>1</td>\n",
       "      <td>1.0</td>\n",
       "      <td>2.0</td>\n",
       "      <td>6.0</td>\n",
       "      <td>4.0</td>\n",
       "      <td>5.0</td>\n",
       "      <td>1.0</td>\n",
       "      <td>1.0</td>\n",
       "      <td>2.0</td>\n",
       "      <td>1.0</td>\n",
       "      <td>1.0</td>\n",
       "      <td>1.498183</td>\n",
       "      <td>0.204811</td>\n",
       "      <td>0.383312</td>\n",
       "      <td>1.107163</td>\n",
       "      <td>-0.718249</td>\n",
       "      <td>1.796590</td>\n",
       "    </tr>\n",
       "    <tr>\n",
       "      <td>2</td>\n",
       "      <td>2.0</td>\n",
       "      <td>3.0</td>\n",
       "      <td>11.0</td>\n",
       "      <td>5.0</td>\n",
       "      <td>7.0</td>\n",
       "      <td>7.0</td>\n",
       "      <td>1.0</td>\n",
       "      <td>2.0</td>\n",
       "      <td>1.0</td>\n",
       "      <td>1.0</td>\n",
       "      <td>-0.241731</td>\n",
       "      <td>-0.852651</td>\n",
       "      <td>-0.732430</td>\n",
       "      <td>1.406664</td>\n",
       "      <td>1.122930</td>\n",
       "      <td>-0.768631</td>\n",
       "    </tr>\n",
       "    <tr>\n",
       "      <td>3</td>\n",
       "      <td>3.0</td>\n",
       "      <td>3.0</td>\n",
       "      <td>10.0</td>\n",
       "      <td>4.0</td>\n",
       "      <td>2.0</td>\n",
       "      <td>4.0</td>\n",
       "      <td>1.0</td>\n",
       "      <td>2.0</td>\n",
       "      <td>0.0</td>\n",
       "      <td>1.0</td>\n",
       "      <td>0.000000</td>\n",
       "      <td>-0.676407</td>\n",
       "      <td>-0.057350</td>\n",
       "      <td>0.957412</td>\n",
       "      <td>-1.702482</td>\n",
       "      <td>0.513980</td>\n",
       "    </tr>\n",
       "    <tr>\n",
       "      <td>4</td>\n",
       "      <td>1.0</td>\n",
       "      <td>3.0</td>\n",
       "      <td>5.0</td>\n",
       "      <td>2.0</td>\n",
       "      <td>4.0</td>\n",
       "      <td>4.0</td>\n",
       "      <td>1.0</td>\n",
       "      <td>3.0</td>\n",
       "      <td>0.0</td>\n",
       "      <td>1.0</td>\n",
       "      <td>-0.000000</td>\n",
       "      <td>-0.412042</td>\n",
       "      <td>-0.574648</td>\n",
       "      <td>-0.390342</td>\n",
       "      <td>0.910077</td>\n",
       "      <td>-0.768631</td>\n",
       "    </tr>\n",
       "  </tbody>\n",
       "</table>\n",
       "</div>"
      ],
      "text/plain": [
       "    V1   V2    V3   V4   V5   V6   V7   V8  Has_FICO  Business_channel  \\\n",
       "0  1.0  1.0  11.0  5.0  6.0  7.0  1.0  2.0       0.0               1.0   \n",
       "1  1.0  2.0   6.0  4.0  5.0  1.0  1.0  2.0       1.0               1.0   \n",
       "2  2.0  3.0  11.0  5.0  7.0  7.0  1.0  2.0       1.0               1.0   \n",
       "3  3.0  3.0  10.0  4.0  2.0  4.0  1.0  2.0       0.0               1.0   \n",
       "4  1.0  3.0   5.0  2.0  4.0  4.0  1.0  3.0       0.0               1.0   \n",
       "\n",
       "   FICO_Score  Loan_amount  Monthly_income       Age  Gearing_coefficient  \\\n",
       "0    0.000000     1.438518       -0.259085  1.781040             0.860269   \n",
       "1    1.498183     0.204811        0.383312  1.107163            -0.718249   \n",
       "2   -0.241731    -0.852651       -0.732430  1.406664             1.122930   \n",
       "3    0.000000    -0.676407       -0.057350  0.957412            -1.702482   \n",
       "4   -0.000000    -0.412042       -0.574648 -0.390342             0.910077   \n",
       "\n",
       "   Max_gearing_ratio  \n",
       "0           0.513980  \n",
       "1           1.796590  \n",
       "2          -0.768631  \n",
       "3           0.513980  \n",
       "4          -0.768631  "
      ]
     },
     "execution_count": 198,
     "metadata": {},
     "output_type": "execute_result"
    }
   ],
   "source": [
    "process_ac.head()"
   ]
  },
  {
   "cell_type": "code",
   "execution_count": 199,
   "metadata": {},
   "outputs": [
    {
     "data": {
      "text/html": [
       "<div>\n",
       "<style scoped>\n",
       "    .dataframe tbody tr th:only-of-type {\n",
       "        vertical-align: middle;\n",
       "    }\n",
       "\n",
       "    .dataframe tbody tr th {\n",
       "        vertical-align: top;\n",
       "    }\n",
       "\n",
       "    .dataframe thead th {\n",
       "        text-align: right;\n",
       "    }\n",
       "</style>\n",
       "<table border=\"1\" class=\"dataframe\">\n",
       "  <thead>\n",
       "    <tr style=\"text-align: right;\">\n",
       "      <th></th>\n",
       "      <th>V1</th>\n",
       "      <th>V2</th>\n",
       "      <th>V3</th>\n",
       "      <th>V4</th>\n",
       "      <th>V5</th>\n",
       "      <th>V6</th>\n",
       "      <th>V7</th>\n",
       "      <th>V8</th>\n",
       "      <th>Has_FICO</th>\n",
       "      <th>Business_channel</th>\n",
       "      <th>FICO_Score</th>\n",
       "      <th>Loan_amount</th>\n",
       "      <th>Monthly_income</th>\n",
       "      <th>Age</th>\n",
       "      <th>Gearing_coefficient</th>\n",
       "      <th>Max_gearing_ratio</th>\n",
       "    </tr>\n",
       "  </thead>\n",
       "  <tbody>\n",
       "    <tr>\n",
       "      <td>0</td>\n",
       "      <td>3.0</td>\n",
       "      <td>3.0</td>\n",
       "      <td>14.0</td>\n",
       "      <td>2.0</td>\n",
       "      <td>1.0</td>\n",
       "      <td>5.0</td>\n",
       "      <td>1.0</td>\n",
       "      <td>1.0</td>\n",
       "      <td>1.0</td>\n",
       "      <td>1.0</td>\n",
       "      <td>-0.030455</td>\n",
       "      <td>-0.323920</td>\n",
       "      <td>-0.605449</td>\n",
       "      <td>-1.064220</td>\n",
       "      <td>1.028210</td>\n",
       "      <td>-0.768631</td>\n",
       "    </tr>\n",
       "    <tr>\n",
       "      <td>1</td>\n",
       "      <td>1.0</td>\n",
       "      <td>4.0</td>\n",
       "      <td>7.0</td>\n",
       "      <td>1.0</td>\n",
       "      <td>6.0</td>\n",
       "      <td>4.0</td>\n",
       "      <td>1.0</td>\n",
       "      <td>2.0</td>\n",
       "      <td>1.0</td>\n",
       "      <td>1.0</td>\n",
       "      <td>0.715222</td>\n",
       "      <td>5.668368</td>\n",
       "      <td>1.299572</td>\n",
       "      <td>0.807662</td>\n",
       "      <td>1.081778</td>\n",
       "      <td>1.796590</td>\n",
       "    </tr>\n",
       "    <tr>\n",
       "      <td>2</td>\n",
       "      <td>1.0</td>\n",
       "      <td>4.0</td>\n",
       "      <td>10.0</td>\n",
       "      <td>4.0</td>\n",
       "      <td>5.0</td>\n",
       "      <td>4.0</td>\n",
       "      <td>1.0</td>\n",
       "      <td>4.0</td>\n",
       "      <td>1.0</td>\n",
       "      <td>3.0</td>\n",
       "      <td>0.764933</td>\n",
       "      <td>-0.750782</td>\n",
       "      <td>0.434027</td>\n",
       "      <td>-0.390342</td>\n",
       "      <td>-0.969416</td>\n",
       "      <td>1.796590</td>\n",
       "    </tr>\n",
       "    <tr>\n",
       "      <td>3</td>\n",
       "      <td>1.0</td>\n",
       "      <td>5.0</td>\n",
       "      <td>14.0</td>\n",
       "      <td>2.0</td>\n",
       "      <td>2.0</td>\n",
       "      <td>5.0</td>\n",
       "      <td>3.0</td>\n",
       "      <td>3.0</td>\n",
       "      <td>1.0</td>\n",
       "      <td>1.0</td>\n",
       "      <td>-1.347818</td>\n",
       "      <td>-0.852651</td>\n",
       "      <td>-0.490122</td>\n",
       "      <td>-0.989344</td>\n",
       "      <td>1.046303</td>\n",
       "      <td>-0.768631</td>\n",
       "    </tr>\n",
       "    <tr>\n",
       "      <td>4</td>\n",
       "      <td>1.0</td>\n",
       "      <td>4.0</td>\n",
       "      <td>15.0</td>\n",
       "      <td>1.0</td>\n",
       "      <td>5.0</td>\n",
       "      <td>4.0</td>\n",
       "      <td>1.0</td>\n",
       "      <td>3.0</td>\n",
       "      <td>1.0</td>\n",
       "      <td>2.0</td>\n",
       "      <td>1.634890</td>\n",
       "      <td>3.200955</td>\n",
       "      <td>0.561380</td>\n",
       "      <td>0.583036</td>\n",
       "      <td>0.088464</td>\n",
       "      <td>1.796590</td>\n",
       "    </tr>\n",
       "  </tbody>\n",
       "</table>\n",
       "</div>"
      ],
      "text/plain": [
       "    V1   V2    V3   V4   V5   V6   V7   V8  Has_FICO  Business_channel  \\\n",
       "0  3.0  3.0  14.0  2.0  1.0  5.0  1.0  1.0       1.0               1.0   \n",
       "1  1.0  4.0   7.0  1.0  6.0  4.0  1.0  2.0       1.0               1.0   \n",
       "2  1.0  4.0  10.0  4.0  5.0  4.0  1.0  4.0       1.0               3.0   \n",
       "3  1.0  5.0  14.0  2.0  2.0  5.0  3.0  3.0       1.0               1.0   \n",
       "4  1.0  4.0  15.0  1.0  5.0  4.0  1.0  3.0       1.0               2.0   \n",
       "\n",
       "   FICO_Score  Loan_amount  Monthly_income       Age  Gearing_coefficient  \\\n",
       "0   -0.030455    -0.323920       -0.605449 -1.064220             1.028210   \n",
       "1    0.715222     5.668368        1.299572  0.807662             1.081778   \n",
       "2    0.764933    -0.750782        0.434027 -0.390342            -0.969416   \n",
       "3   -1.347818    -0.852651       -0.490122 -0.989344             1.046303   \n",
       "4    1.634890     3.200955        0.561380  0.583036             0.088464   \n",
       "\n",
       "   Max_gearing_ratio  \n",
       "0          -0.768631  \n",
       "1           1.796590  \n",
       "2           1.796590  \n",
       "3          -0.768631  \n",
       "4           1.796590  "
      ]
     },
     "execution_count": 199,
     "metadata": {},
     "output_type": "execute_result"
    }
   ],
   "source": [
    "process_re.head()"
   ]
  },
  {
   "cell_type": "markdown",
   "metadata": {},
   "source": [
    "### Plot boxplots to check outliers"
   ]
  },
  {
   "cell_type": "code",
   "execution_count": 200,
   "metadata": {},
   "outputs": [
    {
     "name": "stdout",
     "output_type": "stream",
     "text": [
      "V1\n"
     ]
    },
    {
     "data": {
      "image/png": "[encoded data removed]",
      "text/plain": [
       "<Figure size 432x288 with 1 Axes>"
      ]
     },
     "metadata": {
      "needs_background": "light"
     },
     "output_type": "display_data"
    },
    {
     "name": "stdout",
     "output_type": "stream",
     "text": [
      "V2\n"
     ]
    },
    {
     "data": {
      "image/png": "[encoded data removed]",
      "text/plain": [
       "<Figure size 432x288 with 1 Axes>"
      ]
     },
     "metadata": {
      "needs_background": "light"
     },
     "output_type": "display_data"
    },
    {
     "name": "stdout",
     "output_type": "stream",
     "text": [
      "V3\n"
     ]
    },
    {
     "data": {
      "image/png": "[encoded data removed]",
      "text/plain": [
       "<Figure size 432x288 with 1 Axes>"
      ]
     },
     "metadata": {
      "needs_background": "light"
     },
     "output_type": "display_data"
    },
    {
     "name": "stdout",
     "output_type": "stream",
     "text": [
      "V4\n"
     ]
    },
    {
     "data": {
      "image/png": "[encoded data removed]",
      "text/plain": [
       "<Figure size 432x288 with 1 Axes>"
      ]
     },
     "metadata": {
      "needs_background": "light"
     },
     "output_type": "display_data"
    },
    {
     "name": "stdout",
     "output_type": "stream",
     "text": [
      "V5\n"
     ]
    },
    {
     "data": {
      "image/png": "[encoded data removed]",
      "text/plain": [
       "<Figure size 432x288 with 1 Axes>"
      ]
     },
     "metadata": {
      "needs_background": "light"
     },
     "output_type": "display_data"
    },
    {
     "name": "stdout",
     "output_type": "stream",
     "text": [
      "V6\n"
     ]
    },
    {
     "data": {
      "image/png": "[encoded data removed]",
      "text/plain": [
       "<Figure size 432x288 with 1 Axes>"
      ]
     },
     "metadata": {
      "needs_background": "light"
     },
     "output_type": "display_data"
    },
    {
     "name": "stdout",
     "output_type": "stream",
     "text": [
      "V7\n"
     ]
    },
    {
     "data": {
      "image/png": "[encoded data removed]",
      "text/plain": [
       "<Figure size 432x288 with 1 Axes>"
      ]
     },
     "metadata": {
      "needs_background": "light"
     },
     "output_type": "display_data"
    },
    {
     "name": "stdout",
     "output_type": "stream",
     "text": [
      "V8\n"
     ]
    },
    {
     "data": {
      "image/png": "[encoded data removed]",
      "text/plain": [
       "<Figure size 432x288 with 1 Axes>"
      ]
     },
     "metadata": {
      "needs_background": "light"
     },
     "output_type": "display_data"
    },
    {
     "name": "stdout",
     "output_type": "stream",
     "text": [
      "Has_FICO\n"
     ]
    },
    {
     "data": {
      "image/png": "[encoded data removed]",
      "text/plain": [
       "<Figure size 432x288 with 1 Axes>"
      ]
     },
     "metadata": {
      "needs_background": "light"
     },
     "output_type": "display_data"
    },
    {
     "name": "stdout",
     "output_type": "stream",
     "text": [
      "Business_channel\n"
     ]
    },
    {
     "data": {
      "image/png": "[encoded data removed]",
      "text/plain": [
       "<Figure size 432x288 with 1 Axes>"
      ]
     },
     "metadata": {
      "needs_background": "light"
     },
     "output_type": "display_data"
    },
    {
     "name": "stdout",
     "output_type": "stream",
     "text": [
      "FICO_Score\n"
     ]
    },
    {
     "data": {
      "image/png": "[encoded data removed]",
      "text/plain": [
       "<Figure size 432x288 with 1 Axes>"
      ]
     },
     "metadata": {
      "needs_background": "light"
     },
     "output_type": "display_data"
    },
    {
     "name": "stdout",
     "output_type": "stream",
     "text": [
      "Loan_amount\n"
     ]
    },
    {
     "data": {
      "image/png": "[encoded data removed]",
      "text/plain": [
       "<Figure size 432x288 with 1 Axes>"
      ]
     },
     "metadata": {
      "needs_background": "light"
     },
     "output_type": "display_data"
    },
    {
     "name": "stdout",
     "output_type": "stream",
     "text": [
      "Monthly_income\n"
     ]
    },
    {
     "data": {
      "image/png": "[encoded data removed]",
      "text/plain": [
       "<Figure size 432x288 with 1 Axes>"
      ]
     },
     "metadata": {
      "needs_background": "light"
     },
     "output_type": "display_data"
    },
    {
     "name": "stdout",
     "output_type": "stream",
     "text": [
      "Age\n"
     ]
    },
    {
     "data": {
      "image/png": "[encoded data removed]",
      "text/plain": [
       "<Figure size 432x288 with 1 Axes>"
      ]
     },
     "metadata": {
      "needs_background": "light"
     },
     "output_type": "display_data"
    },
    {
     "name": "stdout",
     "output_type": "stream",
     "text": [
      "Gearing_coefficient\n"
     ]
    },
    {
     "data": {
      "image/png": "[encoded data removed]",
      "text/plain": [
       "<Figure size 432x288 with 1 Axes>"
      ]
     },
     "metadata": {
      "needs_background": "light"
     },
     "output_type": "display_data"
    },
    {
     "name": "stdout",
     "output_type": "stream",
     "text": [
      "Max_gearing_ratio\n"
     ]
    },
    {
     "data": {
      "image/png": "[encoded data removed]",
      "text/plain": [
       "<Figure size 432x288 with 1 Axes>"
      ]
     },
     "metadata": {
      "needs_background": "light"
     },
     "output_type": "display_data"
    }
   ],
   "source": [
    "for column in process_ac.columns:\n",
    "    print(column)\n",
    "    fig,axes=plt.subplots()\n",
    "    axes.boxplot(process_ac[column],patch_artist=True) \n",
    "    plt.show() "
   ]
  },
  {
   "cell_type": "code",
   "execution_count": 201,
   "metadata": {},
   "outputs": [
    {
     "name": "stdout",
     "output_type": "stream",
     "text": [
      "V1\n"
     ]
    },
    {
     "data": {
      "image/png": "[encoded data removed]",
      "text/plain": [
       "<Figure size 432x288 with 1 Axes>"
      ]
     },
     "metadata": {
      "needs_background": "light"
     },
     "output_type": "display_data"
    },
    {
     "name": "stdout",
     "output_type": "stream",
     "text": [
      "V2\n"
     ]
    },
    {
     "data": {
      "image/png": "[encoded data removed]",
      "text/plain": [
       "<Figure size 432x288 with 1 Axes>"
      ]
     },
     "metadata": {
      "needs_background": "light"
     },
     "output_type": "display_data"
    },
    {
     "name": "stdout",
     "output_type": "stream",
     "text": [
      "V3\n"
     ]
    },
    {
     "data": {
      "image/png": "[encoded data removed]",
      "text/plain": [
       "<Figure size 432x288 with 1 Axes>"
      ]
     },
     "metadata": {
      "needs_background": "light"
     },
     "output_type": "display_data"
    },
    {
     "name": "stdout",
     "output_type": "stream",
     "text": [
      "V4\n"
     ]
    },
    {
     "data": {
      "image/png": "[encoded data removed]",
      "text/plain": [
       "<Figure size 432x288 with 1 Axes>"
      ]
     },
     "metadata": {
      "needs_background": "light"
     },
     "output_type": "display_data"
    },
    {
     "name": "stdout",
     "output_type": "stream",
     "text": [
      "V5\n"
     ]
    },
    {
     "data": {
      "image/png": "[encoded data removed]",
      "text/plain": [
       "<Figure size 432x288 with 1 Axes>"
      ]
     },
     "metadata": {
      "needs_background": "light"
     },
     "output_type": "display_data"
    },
    {
     "name": "stdout",
     "output_type": "stream",
     "text": [
      "V6\n"
     ]
    },
    {
     "data": {
      "image/png": "[encoded data removed]",
      "text/plain": [
       "<Figure size 432x288 with 1 Axes>"
      ]
     },
     "metadata": {
      "needs_background": "light"
     },
     "output_type": "display_data"
    },
    {
     "name": "stdout",
     "output_type": "stream",
     "text": [
      "V7\n"
     ]
    },
    {
     "data": {
      "image/png": "[encoded data removed]",
      "text/plain": [
       "<Figure size 432x288 with 1 Axes>"
      ]
     },
     "metadata": {
      "needs_background": "light"
     },
     "output_type": "display_data"
    },
    {
     "name": "stdout",
     "output_type": "stream",
     "text": [
      "V8\n"
     ]
    },
    {
     "data": {
      "image/png": "[encoded data removed]",
      "text/plain": [
       "<Figure size 432x288 with 1 Axes>"
      ]
     },
     "metadata": {
      "needs_background": "light"
     },
     "output_type": "display_data"
    },
    {
     "name": "stdout",
     "output_type": "stream",
     "text": [
      "Has_FICO\n"
     ]
    },
    {
     "data": {
      "image/png": "[encoded data removed]",
      "text/plain": [
       "<Figure size 432x288 with 1 Axes>"
      ]
     },
     "metadata": {
      "needs_background": "light"
     },
     "output_type": "display_data"
    },
    {
     "name": "stdout",
     "output_type": "stream",
     "text": [
      "Business_channel\n"
     ]
    },
    {
     "data": {
      "image/png": "[encoded data removed]",
      "text/plain": [
       "<Figure size 432x288 with 1 Axes>"
      ]
     },
     "metadata": {
      "needs_background": "light"
     },
     "output_type": "display_data"
    },
    {
     "name": "stdout",
     "output_type": "stream",
     "text": [
      "FICO_Score\n"
     ]
    },
    {
     "data": {
      "image/png": "[encoded data removed]",
      "text/plain": [
       "<Figure size 432x288 with 1 Axes>"
      ]
     },
     "metadata": {
      "needs_background": "light"
     },
     "output_type": "display_data"
    },
    {
     "name": "stdout",
     "output_type": "stream",
     "text": [
      "Loan_amount\n"
     ]
    },
    {
     "data": {
      "image/png": "[encoded data removed]",
      "text/plain": [
       "<Figure size 432x288 with 1 Axes>"
      ]
     },
     "metadata": {
      "needs_background": "light"
     },
     "output_type": "display_data"
    },
    {
     "name": "stdout",
     "output_type": "stream",
     "text": [
      "Monthly_income\n"
     ]
    },
    {
     "data": {
      "image/png": "[encoded data removed]",
      "text/plain": [
       "<Figure size 432x288 with 1 Axes>"
      ]
     },
     "metadata": {
      "needs_background": "light"
     },
     "output_type": "display_data"
    },
    {
     "name": "stdout",
     "output_type": "stream",
     "text": [
      "Age\n"
     ]
    },
    {
     "data": {
      "image/png": "[encoded data removed]",
      "text/plain": [
       "<Figure size 432x288 with 1 Axes>"
      ]
     },
     "metadata": {
      "needs_background": "light"
     },
     "output_type": "display_data"
    },
    {
     "name": "stdout",
     "output_type": "stream",
     "text": [
      "Gearing_coefficient\n"
     ]
    },
    {
     "data": {
      "image/png": "[encoded data removed]",
      "text/plain": [
       "<Figure size 432x288 with 1 Axes>"
      ]
     },
     "metadata": {
      "needs_background": "light"
     },
     "output_type": "display_data"
    },
    {
     "name": "stdout",
     "output_type": "stream",
     "text": [
      "Max_gearing_ratio\n"
     ]
    },
    {
     "data": {
      "image/png": "[encoded data removed]",
      "text/plain": [
       "<Figure size 432x288 with 1 Axes>"
      ]
     },
     "metadata": {
      "needs_background": "light"
     },
     "output_type": "display_data"
    }
   ],
   "source": [
    "for column in process_re.columns:\n",
    "    print(column)\n",
    "    fig,axes=plt.subplots()\n",
    "    axes.boxplot(process_re[column],patch_artist=True) \n",
    "    plt.show() "
   ]
  },
  {
   "cell_type": "markdown",
   "metadata": {},
   "source": [
    "### From the results above, we can find there some outliers in some columns such as FICO_Score. To reduce the effect of oultiers, we will define a function to remove values larger or smaller than a certain range. First we set  3 times  the difference between the 25% percentile and 75% percentile as an interval. Values beyond the range will be replaced with the cooresponding lower limit or upper limit."
   ]
  },
  {
   "cell_type": "code",
   "execution_count": 202,
   "metadata": {},
   "outputs": [],
   "source": [
    "# Write a function to remove outliers using IQR\n",
    "def outliers_IQR(data, col):\n",
    "    #Get the lower quartial\n",
    "    lower_quartile = data[col].quantile(0.25)\n",
    "    #Get the higher quartial\n",
    "    upper_quartile = data[col].quantile(0.75)\n",
    "    #Define the interval\n",
    "    IQR = upper_quartile - lower_quartile\n",
    "    #Define the range \n",
    "    outlier_thresh = 3 * IQR\n",
    "    #Select value within the range\n",
    "    data_outlier = data[data[col].between((lower_quartile - outlier_thresh), (upper_quartile + outlier_thresh))]\n",
    "    #Replace the value of outliers with the cooresponding lower limit or upper limits.\n",
    "    data.loc[data[col] < lower_quartile - outlier_thresh,col] = min(data_outlier[col])\n",
    "    data.loc[data[col] > upper_quartile + outlier_thresh,col] = max(data_outlier[col])                                                               \n",
    "    return data"
   ]
  },
  {
   "cell_type": "markdown",
   "metadata": {},
   "source": [
    "### It's reasonable to have extreme values of \"Loan_amount\", \"Monthly_income\",  therefore we didn't apply the function on them. But we obtained a better prediction performance if we also reduce outliers of those 2 columns."
   ]
  },
  {
   "cell_type": "code",
   "execution_count": 203,
   "metadata": {},
   "outputs": [],
   "source": [
    "for column in process_ac.columns:\n",
    "#    if column in [\"Loan_amount\", \"Monthly_income\"]:\n",
    "#        continue\n",
    "    process_ac = outliers_IQR(process_ac, column)\n",
    "    process_re = outliers_IQR(process_re, column)"
   ]
  },
  {
   "cell_type": "code",
   "execution_count": 204,
   "metadata": {},
   "outputs": [
    {
     "name": "stdout",
     "output_type": "stream",
     "text": [
      "V1\n"
     ]
    },
    {
     "data": {
      "image/png": "[encoded data removed]",
      "text/plain": [
       "<Figure size 432x288 with 1 Axes>"
      ]
     },
     "metadata": {
      "needs_background": "light"
     },
     "output_type": "display_data"
    },
    {
     "name": "stdout",
     "output_type": "stream",
     "text": [
      "V2\n"
     ]
    },
    {
     "data": {
      "image/png": "[encoded data removed]",
      "text/plain": [
       "<Figure size 432x288 with 1 Axes>"
      ]
     },
     "metadata": {
      "needs_background": "light"
     },
     "output_type": "display_data"
    },
    {
     "name": "stdout",
     "output_type": "stream",
     "text": [
      "V3\n"
     ]
    },
    {
     "data": {
      "image/png": "[encoded data removed]",
      "text/plain": [
       "<Figure size 432x288 with 1 Axes>"
      ]
     },
     "metadata": {
      "needs_background": "light"
     },
     "output_type": "display_data"
    },
    {
     "name": "stdout",
     "output_type": "stream",
     "text": [
      "V4\n"
     ]
    },
    {
     "data": {
      "image/png": "[encoded data removed]",
      "text/plain": [
       "<Figure size 432x288 with 1 Axes>"
      ]
     },
     "metadata": {
      "needs_background": "light"
     },
     "output_type": "display_data"
    },
    {
     "name": "stdout",
     "output_type": "stream",
     "text": [
      "V5\n"
     ]
    },
    {
     "data": {
      "image/png": "[encoded data removed]",
      "text/plain": [
       "<Figure size 432x288 with 1 Axes>"
      ]
     },
     "metadata": {
      "needs_background": "light"
     },
     "output_type": "display_data"
    },
    {
     "name": "stdout",
     "output_type": "stream",
     "text": [
      "V6\n"
     ]
    },
    {
     "data": {
      "image/png": "[encoded data removed]",
      "text/plain": [
       "<Figure size 432x288 with 1 Axes>"
      ]
     },
     "metadata": {
      "needs_background": "light"
     },
     "output_type": "display_data"
    },
    {
     "name": "stdout",
     "output_type": "stream",
     "text": [
      "V7\n"
     ]
    },
    {
     "data": {
      "image/png": "[encoded data removed]",
      "text/plain": [
       "<Figure size 432x288 with 1 Axes>"
      ]
     },
     "metadata": {
      "needs_background": "light"
     },
     "output_type": "display_data"
    },
    {
     "name": "stdout",
     "output_type": "stream",
     "text": [
      "V8\n"
     ]
    },
    {
     "data": {
      "image/png": "[encoded data removed]",
      "text/plain": [
       "<Figure size 432x288 with 1 Axes>"
      ]
     },
     "metadata": {
      "needs_background": "light"
     },
     "output_type": "display_data"
    },
    {
     "name": "stdout",
     "output_type": "stream",
     "text": [
      "Has_FICO\n"
     ]
    },
    {
     "data": {
      "image/png": "[encoded data removed]",
      "text/plain": [
       "<Figure size 432x288 with 1 Axes>"
      ]
     },
     "metadata": {
      "needs_background": "light"
     },
     "output_type": "display_data"
    },
    {
     "name": "stdout",
     "output_type": "stream",
     "text": [
      "Business_channel\n"
     ]
    },
    {
     "data": {
      "image/png": "[encoded data removed]",
      "text/plain": [
       "<Figure size 432x288 with 1 Axes>"
      ]
     },
     "metadata": {
      "needs_background": "light"
     },
     "output_type": "display_data"
    },
    {
     "name": "stdout",
     "output_type": "stream",
     "text": [
      "FICO_Score\n"
     ]
    },
    {
     "data": {
      "image/png": "[encoded data removed]",
      "text/plain": [
       "<Figure size 432x288 with 1 Axes>"
      ]
     },
     "metadata": {
      "needs_background": "light"
     },
     "output_type": "display_data"
    },
    {
     "name": "stdout",
     "output_type": "stream",
     "text": [
      "Loan_amount\n"
     ]
    },
    {
     "data": {
      "image/png": "[encoded data removed]",
      "text/plain": [
       "<Figure size 432x288 with 1 Axes>"
      ]
     },
     "metadata": {
      "needs_background": "light"
     },
     "output_type": "display_data"
    },
    {
     "name": "stdout",
     "output_type": "stream",
     "text": [
      "Monthly_income\n"
     ]
    },
    {
     "data": {
      "image/png": "[encoded data removed]",
      "text/plain": [
       "<Figure size 432x288 with 1 Axes>"
      ]
     },
     "metadata": {
      "needs_background": "light"
     },
     "output_type": "display_data"
    },
    {
     "name": "stdout",
     "output_type": "stream",
     "text": [
      "Age\n"
     ]
    },
    {
     "data": {
      "image/png": "[encoded data removed]",
      "text/plain": [
       "<Figure size 432x288 with 1 Axes>"
      ]
     },
     "metadata": {
      "needs_background": "light"
     },
     "output_type": "display_data"
    },
    {
     "name": "stdout",
     "output_type": "stream",
     "text": [
      "Gearing_coefficient\n"
     ]
    },
    {
     "data": {
      "image/png": "[encoded data removed]",
      "text/plain": [
       "<Figure size 432x288 with 1 Axes>"
      ]
     },
     "metadata": {
      "needs_background": "light"
     },
     "output_type": "display_data"
    },
    {
     "name": "stdout",
     "output_type": "stream",
     "text": [
      "Max_gearing_ratio\n"
     ]
    },
    {
     "data": {
      "image/png": "[encoded data removed]",
      "text/plain": [
       "<Figure size 432x288 with 1 Axes>"
      ]
     },
     "metadata": {
      "needs_background": "light"
     },
     "output_type": "display_data"
    }
   ],
   "source": [
    "for column in process_ac.columns:\n",
    "    print(column)\n",
    "    fig,axes=plt.subplots()\n",
    "    axes.boxplot(process_ac[column],patch_artist=True) \n",
    "    plt.show() "
   ]
  },
  {
   "cell_type": "code",
   "execution_count": 205,
   "metadata": {},
   "outputs": [
    {
     "name": "stdout",
     "output_type": "stream",
     "text": [
      "V1\n"
     ]
    },
    {
     "data": {
      "image/png": "[encoded data removed]",
      "text/plain": [
       "<Figure size 432x288 with 1 Axes>"
      ]
     },
     "metadata": {
      "needs_background": "light"
     },
     "output_type": "display_data"
    },
    {
     "name": "stdout",
     "output_type": "stream",
     "text": [
      "V2\n"
     ]
    },
    {
     "data": {
      "image/png": "[encoded data removed]",
      "text/plain": [
       "<Figure size 432x288 with 1 Axes>"
      ]
     },
     "metadata": {
      "needs_background": "light"
     },
     "output_type": "display_data"
    },
    {
     "name": "stdout",
     "output_type": "stream",
     "text": [
      "V3\n"
     ]
    },
    {
     "data": {
      "image/png": "[encoded data removed]",
      "text/plain": [
       "<Figure size 432x288 with 1 Axes>"
      ]
     },
     "metadata": {
      "needs_background": "light"
     },
     "output_type": "display_data"
    },
    {
     "name": "stdout",
     "output_type": "stream",
     "text": [
      "V4\n"
     ]
    },
    {
     "data": {
      "image/png": "[encoded data removed]",
      "text/plain": [
       "<Figure size 432x288 with 1 Axes>"
      ]
     },
     "metadata": {
      "needs_background": "light"
     },
     "output_type": "display_data"
    },
    {
     "name": "stdout",
     "output_type": "stream",
     "text": [
      "V5\n"
     ]
    },
    {
     "data": {
      "image/png": "[encoded data removed]",
      "text/plain": [
       "<Figure size 432x288 with 1 Axes>"
      ]
     },
     "metadata": {
      "needs_background": "light"
     },
     "output_type": "display_data"
    },
    {
     "name": "stdout",
     "output_type": "stream",
     "text": [
      "V6\n"
     ]
    },
    {
     "data": {
      "image/png": "[encoded data removed]",
      "text/plain": [
       "<Figure size 432x288 with 1 Axes>"
      ]
     },
     "metadata": {
      "needs_background": "light"
     },
     "output_type": "display_data"
    },
    {
     "name": "stdout",
     "output_type": "stream",
     "text": [
      "V7\n"
     ]
    },
    {
     "data": {
      "image/png": "[encoded data removed]",
      "text/plain": [
       "<Figure size 432x288 with 1 Axes>"
      ]
     },
     "metadata": {
      "needs_background": "light"
     },
     "output_type": "display_data"
    },
    {
     "name": "stdout",
     "output_type": "stream",
     "text": [
      "V8\n"
     ]
    },
    {
     "data": {
      "image/png": "[encoded data removed]",
      "text/plain": [
       "<Figure size 432x288 with 1 Axes>"
      ]
     },
     "metadata": {
      "needs_background": "light"
     },
     "output_type": "display_data"
    },
    {
     "name": "stdout",
     "output_type": "stream",
     "text": [
      "Has_FICO\n"
     ]
    },
    {
     "data": {
      "image/png": "[encoded data removed]",
      "text/plain": [
       "<Figure size 432x288 with 1 Axes>"
      ]
     },
     "metadata": {
      "needs_background": "light"
     },
     "output_type": "display_data"
    },
    {
     "name": "stdout",
     "output_type": "stream",
     "text": [
      "Business_channel\n"
     ]
    },
    {
     "data": {
      "image/png": "[encoded data removed]",
      "text/plain": [
       "<Figure size 432x288 with 1 Axes>"
      ]
     },
     "metadata": {
      "needs_background": "light"
     },
     "output_type": "display_data"
    },
    {
     "name": "stdout",
     "output_type": "stream",
     "text": [
      "FICO_Score\n"
     ]
    },
    {
     "data": {
      "image/png": "[encoded data removed]",
      "text/plain": [
       "<Figure size 432x288 with 1 Axes>"
      ]
     },
     "metadata": {
      "needs_background": "light"
     },
     "output_type": "display_data"
    },
    {
     "name": "stdout",
     "output_type": "stream",
     "text": [
      "Loan_amount\n"
     ]
    },
    {
     "data": {
      "image/png": "[encoded data removed]",
      "text/plain": [
       "<Figure size 432x288 with 1 Axes>"
      ]
     },
     "metadata": {
      "needs_background": "light"
     },
     "output_type": "display_data"
    },
    {
     "name": "stdout",
     "output_type": "stream",
     "text": [
      "Monthly_income\n"
     ]
    },
    {
     "data": {
      "image/png": "[encoded data removed]",
      "text/plain": [
       "<Figure size 432x288 with 1 Axes>"
      ]
     },
     "metadata": {
      "needs_background": "light"
     },
     "output_type": "display_data"
    },
    {
     "name": "stdout",
     "output_type": "stream",
     "text": [
      "Age\n"
     ]
    },
    {
     "data": {
      "image/png": "[encoded data removed]",
      "text/plain": [
       "<Figure size 432x288 with 1 Axes>"
      ]
     },
     "metadata": {
      "needs_background": "light"
     },
     "output_type": "display_data"
    },
    {
     "name": "stdout",
     "output_type": "stream",
     "text": [
      "Gearing_coefficient\n"
     ]
    },
    {
     "data": {
      "image/png": "[encoded data removed]",
      "text/plain": [
       "<Figure size 432x288 with 1 Axes>"
      ]
     },
     "metadata": {
      "needs_background": "light"
     },
     "output_type": "display_data"
    },
    {
     "name": "stdout",
     "output_type": "stream",
     "text": [
      "Max_gearing_ratio\n"
     ]
    },
    {
     "data": {
      "image/png": "[encoded data removed]",
      "text/plain": [
       "<Figure size 432x288 with 1 Axes>"
      ]
     },
     "metadata": {
      "needs_background": "light"
     },
     "output_type": "display_data"
    }
   ],
   "source": [
    "for column in process_re.columns:\n",
    "    print(column)\n",
    "    fig,axes=plt.subplots()\n",
    "    axes.boxplot(process_re[column],patch_artist=True) \n",
    "    plt.show()"
   ]
  },
  {
   "cell_type": "markdown",
   "metadata": {},
   "source": [
    "### Explore the variables"
   ]
  },
  {
   "cell_type": "markdown",
   "metadata": {},
   "source": [
    "### In this secction, we will plot hist gram of each variable to get an overview of the distribution"
   ]
  },
  {
   "cell_type": "code",
   "execution_count": 206,
   "metadata": {},
   "outputs": [
    {
     "name": "stdout",
     "output_type": "stream",
     "text": [
      "V1\n"
     ]
    },
    {
     "data": {
      "image/png": "[encoded data removed]",
      "text/plain": [
       "<Figure size 432x288 with 1 Axes>"
      ]
     },
     "metadata": {
      "needs_background": "light"
     },
     "output_type": "display_data"
    },
    {
     "name": "stdout",
     "output_type": "stream",
     "text": [
      "V2\n"
     ]
    },
    {
     "data": {
      "image/png": "[encoded data removed]",
      "text/plain": [
       "<Figure size 432x288 with 1 Axes>"
      ]
     },
     "metadata": {
      "needs_background": "light"
     },
     "output_type": "display_data"
    },
    {
     "name": "stdout",
     "output_type": "stream",
     "text": [
      "V3\n"
     ]
    },
    {
     "data": {
      "image/png": "[encoded data removed]",
      "text/plain": [
       "<Figure size 432x288 with 1 Axes>"
      ]
     },
     "metadata": {
      "needs_background": "light"
     },
     "output_type": "display_data"
    },
    {
     "name": "stdout",
     "output_type": "stream",
     "text": [
      "V4\n"
     ]
    },
    {
     "data": {
      "image/png": "[encoded data removed]",
      "text/plain": [
       "<Figure size 432x288 with 1 Axes>"
      ]
     },
     "metadata": {
      "needs_background": "light"
     },
     "output_type": "display_data"
    },
    {
     "name": "stdout",
     "output_type": "stream",
     "text": [
      "V5\n"
     ]
    },
    {
     "data": {
      "image/png": "[encoded data removed]",
      "text/plain": [
       "<Figure size 432x288 with 1 Axes>"
      ]
     },
     "metadata": {
      "needs_background": "light"
     },
     "output_type": "display_data"
    },
    {
     "name": "stdout",
     "output_type": "stream",
     "text": [
      "V6\n"
     ]
    },
    {
     "data": {
      "image/png": "[encoded data removed]",
      "text/plain": [
       "<Figure size 432x288 with 1 Axes>"
      ]
     },
     "metadata": {
      "needs_background": "light"
     },
     "output_type": "display_data"
    },
    {
     "name": "stdout",
     "output_type": "stream",
     "text": [
      "V7\n"
     ]
    },
    {
     "data": {
      "image/png": "[encoded data removed]",
      "text/plain": [
       "<Figure size 432x288 with 1 Axes>"
      ]
     },
     "metadata": {
      "needs_background": "light"
     },
     "output_type": "display_data"
    },
    {
     "name": "stdout",
     "output_type": "stream",
     "text": [
      "V8\n"
     ]
    },
    {
     "data": {
      "image/png": "[encoded data removed]",
      "text/plain": [
       "<Figure size 432x288 with 1 Axes>"
      ]
     },
     "metadata": {
      "needs_background": "light"
     },
     "output_type": "display_data"
    },
    {
     "name": "stdout",
     "output_type": "stream",
     "text": [
      "Has_FICO\n"
     ]
    },
    {
     "data": {
      "image/png": "[encoded data removed]",
      "text/plain": [
       "<Figure size 432x288 with 1 Axes>"
      ]
     },
     "metadata": {
      "needs_background": "light"
     },
     "output_type": "display_data"
    },
    {
     "name": "stdout",
     "output_type": "stream",
     "text": [
      "Business_channel\n"
     ]
    },
    {
     "data": {
      "image/png": "[encoded data removed]",
      "text/plain": [
       "<Figure size 432x288 with 1 Axes>"
      ]
     },
     "metadata": {
      "needs_background": "light"
     },
     "output_type": "display_data"
    },
    {
     "name": "stdout",
     "output_type": "stream",
     "text": [
      "FICO_Score\n"
     ]
    },
    {
     "data": {
      "image/png": "[encoded data removed]",
      "text/plain": [
       "<Figure size 432x288 with 1 Axes>"
      ]
     },
     "metadata": {
      "needs_background": "light"
     },
     "output_type": "display_data"
    },
    {
     "name": "stdout",
     "output_type": "stream",
     "text": [
      "Loan_amount\n"
     ]
    },
    {
     "data": {
      "image/png": "[encoded data removed]",
      "text/plain": [
       "<Figure size 432x288 with 1 Axes>"
      ]
     },
     "metadata": {
      "needs_background": "light"
     },
     "output_type": "display_data"
    },
    {
     "name": "stdout",
     "output_type": "stream",
     "text": [
      "Monthly_income\n"
     ]
    },
    {
     "data": {
      "image/png": "[encoded data removed]",
      "text/plain": [
       "<Figure size 432x288 with 1 Axes>"
      ]
     },
     "metadata": {
      "needs_background": "light"
     },
     "output_type": "display_data"
    },
    {
     "name": "stdout",
     "output_type": "stream",
     "text": [
      "Age\n"
     ]
    },
    {
     "data": {
      "image/png": "[encoded data removed]",
      "text/plain": [
       "<Figure size 432x288 with 1 Axes>"
      ]
     },
     "metadata": {
      "needs_background": "light"
     },
     "output_type": "display_data"
    },
    {
     "name": "stdout",
     "output_type": "stream",
     "text": [
      "Gearing_coefficient\n"
     ]
    },
    {
     "data": {
      "image/png": "[encoded data removed]",
      "text/plain": [
       "<Figure size 432x288 with 1 Axes>"
      ]
     },
     "metadata": {
      "needs_background": "light"
     },
     "output_type": "display_data"
    },
    {
     "name": "stdout",
     "output_type": "stream",
     "text": [
      "Max_gearing_ratio\n"
     ]
    },
    {
     "data": {
      "image/png": "[encoded data removed]",
      "text/plain": [
       "<Figure size 432x288 with 1 Axes>"
      ]
     },
     "metadata": {
      "needs_background": "light"
     },
     "output_type": "display_data"
    }
   ],
   "source": [
    "for column in process_ac.columns:\n",
    "    print(column)\n",
    "    fig,axes=plt.subplots()\n",
    "    axes.hist(process_ac[column]) \n",
    "    plt.show()"
   ]
  },
  {
   "cell_type": "code",
   "execution_count": 207,
   "metadata": {},
   "outputs": [
    {
     "name": "stdout",
     "output_type": "stream",
     "text": [
      "V1\n"
     ]
    },
    {
     "data": {
      "image/png": "[encoded data removed]",
      "text/plain": [
       "<Figure size 432x288 with 1 Axes>"
      ]
     },
     "metadata": {
      "needs_background": "light"
     },
     "output_type": "display_data"
    },
    {
     "name": "stdout",
     "output_type": "stream",
     "text": [
      "V2\n"
     ]
    },
    {
     "data": {
      "image/png": "[encoded data removed]",
      "text/plain": [
       "<Figure size 432x288 with 1 Axes>"
      ]
     },
     "metadata": {
      "needs_background": "light"
     },
     "output_type": "display_data"
    },
    {
     "name": "stdout",
     "output_type": "stream",
     "text": [
      "V3\n"
     ]
    },
    {
     "data": {
      "image/png": "[encoded data removed]",
      "text/plain": [
       "<Figure size 432x288 with 1 Axes>"
      ]
     },
     "metadata": {
      "needs_background": "light"
     },
     "output_type": "display_data"
    },
    {
     "name": "stdout",
     "output_type": "stream",
     "text": [
      "V4\n"
     ]
    },
    {
     "data": {
      "image/png": "[encoded data removed]",
      "text/plain": [
       "<Figure size 432x288 with 1 Axes>"
      ]
     },
     "metadata": {
      "needs_background": "light"
     },
     "output_type": "display_data"
    },
    {
     "name": "stdout",
     "output_type": "stream",
     "text": [
      "V5\n"
     ]
    },
    {
     "data": {
      "image/png": "[encoded data removed]",
      "text/plain": [
       "<Figure size 432x288 with 1 Axes>"
      ]
     },
     "metadata": {
      "needs_background": "light"
     },
     "output_type": "display_data"
    },
    {
     "name": "stdout",
     "output_type": "stream",
     "text": [
      "V6\n"
     ]
    },
    {
     "data": {
      "image/png": "[encoded data removed]",
      "text/plain": [
       "<Figure size 432x288 with 1 Axes>"
      ]
     },
     "metadata": {
      "needs_background": "light"
     },
     "output_type": "display_data"
    },
    {
     "name": "stdout",
     "output_type": "stream",
     "text": [
      "V7\n"
     ]
    },
    {
     "data": {
      "image/png": "[encoded data removed]",
      "text/plain": [
       "<Figure size 432x288 with 1 Axes>"
      ]
     },
     "metadata": {
      "needs_background": "light"
     },
     "output_type": "display_data"
    },
    {
     "name": "stdout",
     "output_type": "stream",
     "text": [
      "V8\n"
     ]
    },
    {
     "data": {
      "image/png": "[encoded data removed]",
      "text/plain": [
       "<Figure size 432x288 with 1 Axes>"
      ]
     },
     "metadata": {
      "needs_background": "light"
     },
     "output_type": "display_data"
    },
    {
     "name": "stdout",
     "output_type": "stream",
     "text": [
      "Has_FICO\n"
     ]
    },
    {
     "data": {
      "image/png": "[encoded data removed]",
      "text/plain": [
       "<Figure size 432x288 with 1 Axes>"
      ]
     },
     "metadata": {
      "needs_background": "light"
     },
     "output_type": "display_data"
    },
    {
     "name": "stdout",
     "output_type": "stream",
     "text": [
      "Business_channel\n"
     ]
    },
    {
     "data": {
      "image/png": "[encoded data removed]",
      "text/plain": [
       "<Figure size 432x288 with 1 Axes>"
      ]
     },
     "metadata": {
      "needs_background": "light"
     },
     "output_type": "display_data"
    },
    {
     "name": "stdout",
     "output_type": "stream",
     "text": [
      "FICO_Score\n"
     ]
    },
    {
     "data": {
      "image/png": "[encoded data removed]",
      "text/plain": [
       "<Figure size 432x288 with 1 Axes>"
      ]
     },
     "metadata": {
      "needs_background": "light"
     },
     "output_type": "display_data"
    },
    {
     "name": "stdout",
     "output_type": "stream",
     "text": [
      "Loan_amount\n"
     ]
    },
    {
     "data": {
      "image/png": "[encoded data removed]",
      "text/plain": [
       "<Figure size 432x288 with 1 Axes>"
      ]
     },
     "metadata": {
      "needs_background": "light"
     },
     "output_type": "display_data"
    },
    {
     "name": "stdout",
     "output_type": "stream",
     "text": [
      "Monthly_income\n"
     ]
    },
    {
     "data": {
      "image/png": "[encoded data removed]",
      "text/plain": [
       "<Figure size 432x288 with 1 Axes>"
      ]
     },
     "metadata": {
      "needs_background": "light"
     },
     "output_type": "display_data"
    },
    {
     "name": "stdout",
     "output_type": "stream",
     "text": [
      "Age\n"
     ]
    },
    {
     "data": {
      "image/png": "[encoded data removed]",
      "text/plain": [
       "<Figure size 432x288 with 1 Axes>"
      ]
     },
     "metadata": {
      "needs_background": "light"
     },
     "output_type": "display_data"
    },
    {
     "name": "stdout",
     "output_type": "stream",
     "text": [
      "Gearing_coefficient\n"
     ]
    },
    {
     "data": {
      "image/png": "[encoded data removed]",
      "text/plain": [
       "<Figure size 432x288 with 1 Axes>"
      ]
     },
     "metadata": {
      "needs_background": "light"
     },
     "output_type": "display_data"
    },
    {
     "name": "stdout",
     "output_type": "stream",
     "text": [
      "Max_gearing_ratio\n"
     ]
    },
    {
     "data": {
      "image/png": "[encoded data removed]",
      "text/plain": [
       "<Figure size 432x288 with 1 Axes>"
      ]
     },
     "metadata": {
      "needs_background": "light"
     },
     "output_type": "display_data"
    }
   ],
   "source": [
    "for column in process_re.columns:\n",
    "    print(column)\n",
    "    fig,axes=plt.subplots()\n",
    "    axes.hist(process_re[column]) \n",
    "    plt.show() "
   ]
  },
  {
   "cell_type": "markdown",
   "metadata": {},
   "source": [
    "# 3 Modeling"
   ]
  },
  {
   "cell_type": "markdown",
   "metadata": {},
   "source": [
    "### First, we define a function to create bins for each variable, then caculate woe and iv. In this function, for the variables which can be cut based on quantities, we will use a while loop to find the optimal solution. For the variables which can only be cut by values, we will split them into 5 cuts based on value."
   ]
  },
  {
   "cell_type": "code",
   "execution_count": 208,
   "metadata": {},
   "outputs": [],
   "source": [
    "#Reference:Zhihu. 2019. Score Card. [ONLINE] Available at: https://www.zhihu.com/topic/19712111/intro  \n",
    "def mono_bin(Y, X, n = 20):\n",
    "    r = 0\n",
    "    #Get the amount of good customers \n",
    "    good=Y.sum()\n",
    "    #Get the amount of bad customers \n",
    "    bad=Y.count()-good\n",
    "    #Use a while loop to find the optimal solution to bin each variable.\n",
    "    while np.abs(r) < 1:\n",
    "        try:\n",
    "            d1 = pd.DataFrame({\"X\": X, \"Y\": Y, \"Bucket\": pd.qcut(X, n)})\n",
    "        #For the variables which can not be bined by quantities, we will cut them into 5 cuts based on value.\n",
    "        except:\n",
    "            d1 = pd.DataFrame({\"X\": X, \"Y\": Y, \"Bucket\": pd.cut(X,5)})\n",
    "            d2 = d1.groupby('Bucket', as_index = True)\n",
    "            break\n",
    "        d2 = d1.groupby('Bucket', as_index = True)\n",
    "        r, p = stats.spearmanr(d2.mean().X, d2.mean().Y)\n",
    "        n = n - 1\n",
    "    d3 = pd.DataFrame(d2.X.min(), columns = ['min'])\n",
    "    d3['min']=d2.min().X\n",
    "    d3['max'] = d2.max().X\n",
    "    d3['sum'] = d2.sum().Y\n",
    "    d3['total'] = d2.count().Y\n",
    "    d3['rate'] = d2.mean().Y\n",
    "    #Calculate woe\n",
    "    d3['woe']=np.log((d3['rate']/(1-d3['rate']))/(good/bad))\n",
    "    d3['goodattribute']=d3['sum']/good\n",
    "    d3['badattribute']=(d3['total']-d3['sum'])/bad\n",
    "    #Calculate information value\n",
    "    iv=((d3['goodattribute']-d3['badattribute'])*d3['woe']).sum()\n",
    "    d4 = (d3.sort_index(by = 'min')).reset_index(drop=True)\n",
    "    print(\"=\" * 60)\n",
    "    print(d4)\n",
    "    #Store cuts solutions\n",
    "    cut=[]\n",
    "    cut.append(float('-inf'))\n",
    "    for i in range(1,n+1):\n",
    "        qua=X.quantile(i/(n+1))\n",
    "        cut.append(round(qua,4))\n",
    "    cut.append(float('inf'))\n",
    "    woe=list(d4['woe'].round(3))\n",
    "    #Remove the duplicates in the cuts solution and sort them \n",
    "    cut = sorted(list(set(cut)))\n",
    "    return d4,iv,cut,woe"
   ]
  },
  {
   "cell_type": "code",
   "execution_count": 209,
   "metadata": {},
   "outputs": [],
   "source": [
    "Y = accepts.Default_45"
   ]
  },
  {
   "cell_type": "code",
   "execution_count": 210,
   "metadata": {},
   "outputs": [],
   "source": [
    "#Define 4 lists to store the statistics, information value, cut solution, and woe of each variables\n",
    "statics = []\n",
    "iv = []\n",
    "cut = []\n",
    "woe =[]"
   ]
  },
  {
   "cell_type": "markdown",
   "metadata": {},
   "source": [
    "### Use a for loop to bin each variable, then print out the cuts and corresponding statistic information"
   ]
  },
  {
   "cell_type": "code",
   "execution_count": 211,
   "metadata": {},
   "outputs": [
    {
     "name": "stdout",
     "output_type": "stream",
     "text": [
      "\n",
      "V1\n",
      "============================================================\n",
      "   min  max   sum  total      rate       woe  goodattribute  badattribute\n",
      "0  1.0  1.0  1055   5783  0.182431 -0.327443       0.446277      0.619172\n",
      "1  2.0  2.0    87    502  0.173307 -0.389852       0.036802      0.054348\n",
      "2  3.0  3.0  1011   2868  0.352510  0.564496       0.427665      0.243190\n",
      "3  4.0  4.0   208    839  0.247914  0.062751       0.087986      0.082635\n",
      "4  5.0  5.0     3      8  0.375000  0.661693       0.001269      0.000655\n",
      "\n",
      "V2\n",
      "============================================================\n",
      "   min  max  sum  total      rate       woe  goodattribute  badattribute\n",
      "0  1.0  2.0  211   1351  0.156181 -0.514407       0.089255      0.149293\n",
      "1  3.0  3.0  984   3846  0.255850  0.104869       0.416244      0.374804\n",
      "2  4.0  4.0  426   2271  0.187583 -0.293276       0.180203      0.241619\n",
      "3  5.0  5.0  740   2504  0.295527  0.303830       0.313029      0.231011\n",
      "4  6.0  6.0    3     28  0.107143 -0.947745       0.001269      0.003274\n",
      "\n",
      "V3\n",
      "============================================================\n",
      "    min   max  sum  total      rate       woe  goodattribute  badattribute\n",
      "0   1.0   4.0  525   1961  0.267721  0.166300       0.222081      0.188057\n",
      "1   5.0   7.0   87    609  0.142857 -0.619241       0.036802      0.068360\n",
      "2   8.0  10.0  833   2764  0.301375  0.331759       0.352369      0.252881\n",
      "3  11.0  13.0  706   3937  0.179324 -0.348413       0.298646      0.423127\n",
      "4  14.0  16.0  213    729  0.292181  0.287704       0.090102      0.067575\n",
      "\n",
      "V4\n",
      "============================================================\n",
      "   min  max   sum  total      rate       woe  goodattribute  badattribute\n",
      "0  1.0  2.0   802   3318  0.241712  0.029202       0.339255      0.329492\n",
      "1  3.0  3.0   258    950  0.271579  0.185892       0.109137      0.090623\n",
      "2  4.0  4.0  1046   3614  0.289430  0.274365       0.442470      0.336302\n",
      "3  5.0  5.0   257   2115  0.121513 -0.805661       0.108714      0.243321\n",
      "4  6.0  6.0     1      3  0.333333  0.479372       0.000423      0.000262\n",
      "\n",
      "V5\n",
      "============================================================\n",
      "   min  max   sum  total      rate       woe  goodattribute  badattribute\n",
      "0  1.0  2.0  1151   3107  0.370454  0.642248       0.486887      0.256155\n",
      "1  3.0  3.0   450   1705  0.263930  0.146876       0.190355      0.164353\n",
      "2  4.0  4.0   269   1461  0.184120 -0.316158       0.113790      0.156103\n",
      "3  5.0  5.0   147    862  0.170534 -0.409331       0.062183      0.093635\n",
      "4  6.0  7.0   347   2865  0.121117 -0.809377       0.146785      0.329754\n",
      "\n",
      "V6\n",
      "============================================================\n",
      "   min  max   sum  total      rate       woe  goodattribute  badattribute\n",
      "0  1.0  2.0    83    511  0.162427 -0.467764       0.035110      0.056050\n",
      "1  3.0  3.0    43    338  0.127219 -0.753256       0.018190      0.038633\n",
      "2  4.0  4.0   710   3094  0.229476 -0.038751       0.300338      0.312205\n",
      "3  5.0  5.0  1267   3920  0.323214  0.433480       0.535956      0.347433\n",
      "4  6.0  7.0   261   2137  0.122134 -0.799858       0.110406      0.245678\n",
      "\n",
      "V7\n",
      "============================================================\n",
      "   min  max   sum  total      rate       woe  goodattribute  badattribute\n",
      "0  1.0  1.0  1161   6106  0.190141 -0.276576       0.491117      0.647590\n",
      "1  2.0  2.0    76    216  0.351852  0.561610       0.032149      0.018334\n",
      "2  3.0  3.0  1127   3678  0.306417  0.355593       0.476734      0.334075\n",
      "3  NaN  NaN     0      0       NaN       NaN       0.000000      0.000000\n",
      "4  NaN  NaN     0      0       NaN       NaN       0.000000      0.000000\n",
      "\n",
      "V8\n",
      "============================================================\n",
      "   min  max   sum  total      rate       woe  goodattribute  badattribute\n",
      "0  1.0  2.0  1832   7490  0.244593  0.044857       0.774958      0.740964\n",
      "1  3.0  3.0   295   1486  0.198520 -0.223054       0.124788      0.155972\n",
      "2  4.0  4.0   188    842  0.223278 -0.074147       0.079526      0.085647\n",
      "3  6.0  6.0    49    182  0.269231  0.173990       0.020728      0.017417\n",
      "4  NaN  NaN     0      0       NaN       NaN       0.000000      0.000000\n",
      "\n",
      "Has_FICO\n",
      "============================================================\n",
      "   min  max   sum  total      rate       woe  goodattribute  badattribute\n",
      "0  0.0  0.0  1152   4472  0.257603  0.114054        0.48731      0.434783\n",
      "1  1.0  1.0  1212   5528  0.219247 -0.097538        0.51269      0.565217\n",
      "2  NaN  NaN     0      0       NaN       NaN        0.00000      0.000000\n",
      "3  NaN  NaN     0      0       NaN       NaN        0.00000      0.000000\n",
      "4  NaN  NaN     0      0       NaN       NaN        0.00000      0.000000\n",
      "\n",
      "Business_channel\n",
      "============================================================\n",
      "   min  max   sum  total      rate       woe  goodattribute  badattribute\n",
      "0  1.0  1.0  1424   6912  0.206019 -0.176575       0.602369      0.718701\n",
      "1  2.0  2.0   857   2144  0.399720  0.765888       0.362521      0.168544\n",
      "2  3.0  3.0    83    944  0.087924 -1.166735       0.035110      0.112755\n",
      "3  NaN  NaN     0      0       NaN       NaN       0.000000      0.000000\n",
      "4  NaN  NaN     0      0       NaN       NaN       0.000000      0.000000\n",
      "\n",
      "FICO_Score\n",
      "============================================================\n",
      "        min       max   sum  total      rate       woe  goodattribute  \\\n",
      "0 -3.212011 -2.093495    40     62  0.645161  1.770356       0.016920   \n",
      "1 -2.068640 -0.950124  1182   2908  0.406465  0.793920       0.500000   \n",
      "2 -0.937696  0.193248   977   4470  0.218568 -0.101511       0.413283   \n",
      "3  0.205676  1.324191   150   2017  0.074368 -1.348934       0.063452   \n",
      "4  1.336619  2.467563    15    543  0.027624 -2.388527       0.006345   \n",
      "\n",
      "   badattribute  \n",
      "0      0.002881  \n",
      "1      0.226035  \n",
      "2      0.457438  \n",
      "3      0.244500  \n",
      "4      0.069146  \n",
      "\n",
      "Loan_amount\n",
      "============================================================\n",
      "        min       max   sum  total      rate       woe  goodattribute  \\\n",
      "0 -1.117017 -0.218174  1218   5452  0.223404 -0.073418       0.515228   \n",
      "1 -0.209361  0.654233   797   3239  0.246064  0.052801       0.337140   \n",
      "2  0.684194  1.579513   171    652  0.262270  0.138315       0.072335   \n",
      "3  1.597137  2.478356    97    334  0.290419  0.279170       0.041032   \n",
      "4  2.495980  3.377199    81    323  0.250774  0.078030       0.034264   \n",
      "\n",
      "   badattribute  \n",
      "0      0.554479  \n",
      "1      0.319801  \n",
      "2      0.062991  \n",
      "3      0.031037  \n",
      "4      0.031692  \n",
      "\n",
      "Monthly_income\n",
      "============================================================\n",
      "        min       max  sum  total      rate       woe  goodattribute  \\\n",
      "0 -0.984880 -0.504773  707   3340  0.211677 -0.142330       0.299069   \n",
      "1 -0.504401 -0.120462  825   3329  0.247822  0.062257       0.348985   \n",
      "2 -0.119707  1.831522  832   3331  0.249775  0.072705       0.351946   \n",
      "\n",
      "   badattribute  \n",
      "0      0.344814  \n",
      "1      0.327920  \n",
      "2      0.327266  \n",
      "\n",
      "Age\n",
      "============================================================\n",
      "        min       max  sum  total      rate       woe  goodattribute  \\\n",
      "0 -1.588346 -1.213970  537   1352  0.397189  0.755329       0.227157   \n",
      "1 -1.139095 -0.989344  308    960  0.320833  0.422574       0.130288   \n",
      "2 -0.914469 -0.614968  354   1199  0.295246  0.302479       0.149746   \n",
      "3 -0.540093 -0.315467  283   1010  0.280198  0.229039       0.119712   \n",
      "4 -0.240592  0.058909  288   1171  0.245944  0.052154       0.121827   \n",
      "5  0.133784  0.433285  186   1094  0.170018 -0.412979       0.078680   \n",
      "6  0.508161  1.032287  159   1113  0.142857 -0.619241       0.067259   \n",
      "7  1.107163  1.481539  131   1048  0.125000 -0.773391       0.055415   \n",
      "8  1.556414  2.005666  118   1053  0.112061 -0.897343       0.049915   \n",
      "\n",
      "   badattribute  \n",
      "0      0.106731  \n",
      "1      0.085385  \n",
      "2      0.110660  \n",
      "3      0.095207  \n",
      "4      0.115636  \n",
      "5      0.118910  \n",
      "6      0.124935  \n",
      "7      0.120089  \n",
      "8      0.122446  \n",
      "\n",
      "Gearing_coefficient\n",
      "============================================================\n",
      "        min       max   sum  total    rate           woe  goodattribute  \\\n",
      "0 -2.859551  1.437952  2364  10000  0.2364 -2.220446e-16            1.0   \n",
      "\n",
      "   badattribute  \n",
      "0           1.0  \n",
      "\n",
      "Max_gearing_ratio\n",
      "============================================================\n",
      "        min       max   sum  total      rate       woe  goodattribute  \\\n",
      "0 -0.768631 -0.768631  1334   5802  0.229921 -0.036240       0.564298   \n",
      "1  0.513980  0.513980   583   2250  0.259111  0.121925       0.246616   \n",
      "2  1.796590  1.796590   447   1948  0.229466 -0.038809       0.189086   \n",
      "3       NaN       NaN     0      0       NaN       NaN       0.000000   \n",
      "4       NaN       NaN     0      0       NaN       NaN       0.000000   \n",
      "\n",
      "   badattribute  \n",
      "0      0.585123  \n",
      "1      0.218308  \n",
      "2      0.196569  \n",
      "3      0.000000  \n",
      "4      0.000000  \n"
     ]
    }
   ],
   "source": [
    "for column in process_ac.columns:\n",
    "    print(\"\\n\" + column)\n",
    "    z1,z2,z3,z4 = mono_bin(Y,process_ac[column],n = 20)\n",
    "    statics.append(z1)\n",
    "    iv.append(z2)\n",
    "    cut.append(z3)\n",
    "    woe.append(z4)"
   ]
  },
  {
   "cell_type": "markdown",
   "metadata": {},
   "source": [
    "### Check how relevant each variable is "
   ]
  },
  {
   "cell_type": "code",
   "execution_count": 212,
   "metadata": {},
   "outputs": [],
   "source": [
    "process_ac_heat = process_ac.copy()"
   ]
  },
  {
   "cell_type": "code",
   "execution_count": 213,
   "metadata": {},
   "outputs": [],
   "source": [
    "process_ac_heat['target'] = Y"
   ]
  },
  {
   "cell_type": "code",
   "execution_count": 214,
   "metadata": {},
   "outputs": [
    {
     "data": {
      "image/png": "[encoded data removed]",
      "text/plain": [
       "<Figure size 1440x720 with 2 Axes>"
      ]
     },
     "metadata": {
      "needs_background": "light"
     },
     "output_type": "display_data"
    }
   ],
   "source": [
    "corr = process_ac_heat.corr() #Calculate the correlation coefficient of each variable\n",
    "fig = plt.figure(figsize=(20,10))\n",
    "ax1 = fig.add_subplot(1, 1, 1)\n",
    "seaborn.heatmap(corr, annot=True, cmap='rainbow', ax=ax1, annot_kws={'size': 9, 'weight': 'bold', 'color': 'blue'})\n",
    "plt.show()"
   ]
  },
  {
   "cell_type": "markdown",
   "metadata": {},
   "source": [
    "### Check information value of each variable"
   ]
  },
  {
   "cell_type": "code",
   "execution_count": 215,
   "metadata": {},
   "outputs": [
    {
     "data": {
      "image/png": "[encoded data removed]",
      "text/plain": [
       "<Figure size 1440x720 with 1 Axes>"
      ]
     },
     "metadata": {
      "needs_background": "light"
     },
     "output_type": "display_data"
    }
   ],
   "source": [
    "ivlist=iv# information values \n",
    "index=process_ac.columns\n",
    "fig1 = plt.figure(figsize=(20,10))\n",
    "ax1 = fig1.add_subplot(1, 1, 1)\n",
    "x = np.arange(len(index))+1\n",
    "ax1.bar(x, ivlist, width=0.4)\n",
    "ax1.set_xticks(x)\n",
    "ax1.set_xticklabels(index, rotation=0, fontsize=12)\n",
    "ax1.set_ylabel('IV(Information Value)', fontsize=14)\n",
    "for a, b in zip(x, ivlist):\n",
    "    plt.text(a, b + 0.01, '%.4f' % b, ha='center', va='bottom', fontsize=10)\n",
    "plt.show()"
   ]
  },
  {
   "cell_type": "markdown",
   "metadata": {},
   "source": [
    "### Based on the heatmap and the infotmaiton value charts, we decide to to remove the following variables when we build the model."
   ]
  },
  {
   "cell_type": "code",
   "execution_count": 217,
   "metadata": {},
   "outputs": [],
   "source": [
    "remove = ['Has_FICO','Loan_amount','Monthly_income','Gearing_coefficient','Max_gearing_ratio','V8']"
   ]
  },
  {
   "cell_type": "markdown",
   "metadata": {},
   "source": [
    "### Define function to transform each variable into woe embedding variables"
   ]
  },
  {
   "cell_type": "code",
   "execution_count": 218,
   "metadata": {},
   "outputs": [],
   "source": [
    "#We set the variable column, cut solution, and woe as inputs.\n",
    "def replace_woe(series, cut, woe):\n",
    "    list = []\n",
    "    i = 0\n",
    "    while i<len(series):\n",
    "        value=series[i]\n",
    "        j=len(cut) - 2\n",
    "        m=len(cut) - 2\n",
    "        while j >= 0:\n",
    "            if value>=cut[j]:\n",
    "                j = -1\n",
    "            else:\n",
    "                j -= 1\n",
    "                m -= 1\n",
    "        list.append(woe[m])\n",
    "        i += 1\n",
    "    return list"
   ]
  },
  {
   "cell_type": "markdown",
   "metadata": {},
   "source": [
    "### transform each variable into woe embedding variables in a for loop"
   ]
  },
  {
   "cell_type": "code",
   "execution_count": 219,
   "metadata": {},
   "outputs": [],
   "source": [
    "#Define a dataframe to store the woe embedding of each variable.\n",
    "data_ac = pd.DataFrame()\n",
    "#loop through each variable to get the woe embedding \n",
    "for column in process_ac.columns:\n",
    "    i = 0\n",
    "    data_ac[column] = pd.Series(replace_woe(process_ac[column], cut[i], woe[i]))\n",
    "    i = i+1"
   ]
  },
  {
   "cell_type": "code",
   "execution_count": 220,
   "metadata": {},
   "outputs": [
    {
     "data": {
      "text/html": [
       "<div>\n",
       "<style scoped>\n",
       "    .dataframe tbody tr th:only-of-type {\n",
       "        vertical-align: middle;\n",
       "    }\n",
       "\n",
       "    .dataframe tbody tr th {\n",
       "        vertical-align: top;\n",
       "    }\n",
       "\n",
       "    .dataframe thead th {\n",
       "        text-align: right;\n",
       "    }\n",
       "</style>\n",
       "<table border=\"1\" class=\"dataframe\">\n",
       "  <thead>\n",
       "    <tr style=\"text-align: right;\">\n",
       "      <th></th>\n",
       "      <th>V1</th>\n",
       "      <th>V2</th>\n",
       "      <th>V3</th>\n",
       "      <th>V4</th>\n",
       "      <th>V5</th>\n",
       "      <th>V6</th>\n",
       "      <th>V7</th>\n",
       "      <th>V8</th>\n",
       "      <th>Has_FICO</th>\n",
       "      <th>Business_channel</th>\n",
       "      <th>FICO_Score</th>\n",
       "      <th>Loan_amount</th>\n",
       "      <th>Monthly_income</th>\n",
       "      <th>Age</th>\n",
       "      <th>Gearing_coefficient</th>\n",
       "      <th>Max_gearing_ratio</th>\n",
       "    </tr>\n",
       "  </thead>\n",
       "  <tbody>\n",
       "    <tr>\n",
       "      <td>0</td>\n",
       "      <td>-0.390</td>\n",
       "      <td>-0.390</td>\n",
       "      <td>0.662</td>\n",
       "      <td>0.662</td>\n",
       "      <td>0.662</td>\n",
       "      <td>0.662</td>\n",
       "      <td>-0.39</td>\n",
       "      <td>0.564</td>\n",
       "      <td>-0.327</td>\n",
       "      <td>-0.39</td>\n",
       "      <td>-0.327</td>\n",
       "      <td>-0.390</td>\n",
       "      <td>-0.327</td>\n",
       "      <td>-0.390</td>\n",
       "      <td>-0.327</td>\n",
       "      <td>-0.327</td>\n",
       "    </tr>\n",
       "    <tr>\n",
       "      <td>1</td>\n",
       "      <td>-0.390</td>\n",
       "      <td>0.564</td>\n",
       "      <td>0.662</td>\n",
       "      <td>0.662</td>\n",
       "      <td>0.662</td>\n",
       "      <td>-0.390</td>\n",
       "      <td>-0.39</td>\n",
       "      <td>0.564</td>\n",
       "      <td>-0.390</td>\n",
       "      <td>-0.39</td>\n",
       "      <td>-0.390</td>\n",
       "      <td>-0.327</td>\n",
       "      <td>-0.327</td>\n",
       "      <td>-0.390</td>\n",
       "      <td>-0.327</td>\n",
       "      <td>-0.390</td>\n",
       "    </tr>\n",
       "    <tr>\n",
       "      <td>2</td>\n",
       "      <td>0.564</td>\n",
       "      <td>0.063</td>\n",
       "      <td>0.662</td>\n",
       "      <td>0.662</td>\n",
       "      <td>0.662</td>\n",
       "      <td>0.662</td>\n",
       "      <td>-0.39</td>\n",
       "      <td>0.564</td>\n",
       "      <td>-0.390</td>\n",
       "      <td>-0.39</td>\n",
       "      <td>-0.327</td>\n",
       "      <td>-0.327</td>\n",
       "      <td>-0.327</td>\n",
       "      <td>-0.390</td>\n",
       "      <td>-0.390</td>\n",
       "      <td>-0.327</td>\n",
       "    </tr>\n",
       "    <tr>\n",
       "      <td>3</td>\n",
       "      <td>0.063</td>\n",
       "      <td>0.063</td>\n",
       "      <td>0.662</td>\n",
       "      <td>0.662</td>\n",
       "      <td>0.564</td>\n",
       "      <td>0.662</td>\n",
       "      <td>-0.39</td>\n",
       "      <td>0.564</td>\n",
       "      <td>-0.327</td>\n",
       "      <td>-0.39</td>\n",
       "      <td>-0.327</td>\n",
       "      <td>-0.327</td>\n",
       "      <td>-0.327</td>\n",
       "      <td>-0.327</td>\n",
       "      <td>-0.327</td>\n",
       "      <td>-0.327</td>\n",
       "    </tr>\n",
       "    <tr>\n",
       "      <td>4</td>\n",
       "      <td>-0.390</td>\n",
       "      <td>0.063</td>\n",
       "      <td>0.662</td>\n",
       "      <td>0.564</td>\n",
       "      <td>0.662</td>\n",
       "      <td>0.662</td>\n",
       "      <td>-0.39</td>\n",
       "      <td>0.063</td>\n",
       "      <td>-0.327</td>\n",
       "      <td>-0.39</td>\n",
       "      <td>-0.327</td>\n",
       "      <td>-0.327</td>\n",
       "      <td>-0.327</td>\n",
       "      <td>-0.327</td>\n",
       "      <td>-0.327</td>\n",
       "      <td>-0.327</td>\n",
       "    </tr>\n",
       "  </tbody>\n",
       "</table>\n",
       "</div>"
      ],
      "text/plain": [
       "      V1     V2     V3     V4     V5     V6    V7     V8  Has_FICO  \\\n",
       "0 -0.390 -0.390  0.662  0.662  0.662  0.662 -0.39  0.564    -0.327   \n",
       "1 -0.390  0.564  0.662  0.662  0.662 -0.390 -0.39  0.564    -0.390   \n",
       "2  0.564  0.063  0.662  0.662  0.662  0.662 -0.39  0.564    -0.390   \n",
       "3  0.063  0.063  0.662  0.662  0.564  0.662 -0.39  0.564    -0.327   \n",
       "4 -0.390  0.063  0.662  0.564  0.662  0.662 -0.39  0.063    -0.327   \n",
       "\n",
       "   Business_channel  FICO_Score  Loan_amount  Monthly_income    Age  \\\n",
       "0             -0.39      -0.327       -0.390          -0.327 -0.390   \n",
       "1             -0.39      -0.390       -0.327          -0.327 -0.390   \n",
       "2             -0.39      -0.327       -0.327          -0.327 -0.390   \n",
       "3             -0.39      -0.327       -0.327          -0.327 -0.327   \n",
       "4             -0.39      -0.327       -0.327          -0.327 -0.327   \n",
       "\n",
       "   Gearing_coefficient  Max_gearing_ratio  \n",
       "0               -0.327             -0.327  \n",
       "1               -0.327             -0.390  \n",
       "2               -0.390             -0.327  \n",
       "3               -0.327             -0.327  \n",
       "4               -0.327             -0.327  "
      ]
     },
     "execution_count": 220,
     "metadata": {},
     "output_type": "execute_result"
    }
   ],
   "source": [
    "data_ac.head()"
   ]
  },
  {
   "cell_type": "markdown",
   "metadata": {},
   "source": [
    "### Split the accepts set into training set, and test set. Meanwhile we will use a 3 folds cross validation in the modeling part"
   ]
  },
  {
   "cell_type": "code",
   "execution_count": 222,
   "metadata": {},
   "outputs": [],
   "source": [
    "X = data_ac\n",
    "X = X.drop(remove,axis = 1)\n",
    "X_train, x_test, Y_train, y_test = train_test_split(X, Y, test_size=0.3, stratify = Y)"
   ]
  },
  {
   "cell_type": "markdown",
   "metadata": {},
   "source": [
    "### Check how many bad customer are in the training set"
   ]
  },
  {
   "cell_type": "code",
   "execution_count": 223,
   "metadata": {},
   "outputs": [
    {
     "data": {
      "text/plain": [
       "1655"
      ]
     },
     "execution_count": 223,
     "metadata": {},
     "output_type": "execute_result"
    }
   ],
   "source": [
    "Y_train.sum()"
   ]
  },
  {
   "cell_type": "markdown",
   "metadata": {},
   "source": [
    "### In this section, we will define several models and a grid of hyper parameters. Then we will train each model using the hyper parameter gird and select the best one.\n",
    "### After the training and prediction of each model, we will print out the performance in terms of AUC, accuracy, precision and f1 score for each model.\n",
    "### In the end, we will plot a probability hist gram. So you can find the distribution of probabilities of each model."
   ]
  },
  {
   "cell_type": "code",
   "execution_count": 224,
   "metadata": {},
   "outputs": [
    {
     "name": "stdout",
     "output_type": "stream",
     "text": [
      "logistic \t AUC: 0.721575010819919 \n",
      "Accuracy: 0.6616666666666666 \n",
      "Precision: 0.3813953488372093 \n",
      " \n",
      "F1: 0.4922461230615308 \n",
      " {'C': 10, 'class_weight': 'balanced', 'max_iter': 100, 'penalty': 'l2', 'solver': 'sag'}\n",
      "          pred:yes  pred:no\n",
      "true:yes      1493      798\n",
      "true:no        217      492 \n",
      "\n",
      "knn \t AUC: 0.6761452030050747 \n",
      "Accuracy: 0.7563333333333333 \n",
      "Precision: 0.46686746987951805 \n",
      " \n",
      "F1: 0.29779058597502406 \n",
      " {'leaf_size': 2, 'n_neighbors': 15, 'weights': 'distance'}\n",
      "          pred:yes  pred:no\n",
      "true:yes      2114      177\n",
      "true:no        554      155 \n",
      "\n",
      "lda_svd \t AUC: 0.7164091536206865 \n",
      "Accuracy: 0.7673333333333333 \n",
      "Precision: 0.5504587155963303 \n",
      " \n",
      "F1: 0.1466992665036675 \n",
      " {'solver': 'svd'}\n",
      "          pred:yes  pred:no\n",
      "true:yes      2242       49\n",
      "true:no        649       60 \n",
      "\n",
      "randomForest \t AUC: 0.7588767969838437 \n",
      "Accuracy: 0.633 \n",
      "Precision: 0.37139107611548555 \n",
      " \n",
      "F1: 0.5069413345275414 \n",
      " {'class_weight': 'balanced', 'max_depth': 4, 'max_features': 'auto', 'n_estimators': 600}\n",
      "          pred:yes  pred:no\n",
      "true:yes      1333      958\n",
      "true:no        143      566 \n",
      "\n"
     ]
    },
    {
     "data": {
      "image/png": "[encoded data removed]",
      "text/plain": [
       "<Figure size 432x288 with 1 Axes>"
      ]
     },
     "metadata": {
      "needs_background": "light"
     },
     "output_type": "display_data"
    }
   ],
   "source": [
    "svm          = SVC()\n",
    "logistic     = LogisticRegression()\n",
    "randomForest = RandomForestClassifier()\n",
    "knn          = KNeighborsClassifier()\n",
    "lda          = LinearDiscriminantAnalysis()\n",
    "\n",
    "models = {\n",
    "          \"logistic\"     :logistic,\n",
    "          \"knn\"          :knn,\n",
    "          #\"svm\"      : svm,\n",
    "          \"lda_svd\"      : lda,\n",
    "          \"randomForest\" :randomForest\n",
    "         }\n",
    "#Grid Values to loop through\n",
    "grid_values = {\n",
    "    \"logistic\":{\"solver\":[\"lbfgs\", \"newton-cg\", \"sag\", \"saga\"],'penalty': ['l2'],'C':[0.1, 1, 5, 10, 0.01], \n",
    "                \"max_iter\":[100, 200], \"class_weight\":[None, \"balanced\"]},\n",
    "    \"randomForest\":{\"max_depth\":[3,4], \"n_estimators\":[600, 250], \"class_weight\":[\"balanced\"], \n",
    "                    \"max_features\":[\"auto\",\"sqrt\", \"log2\"]},\n",
    "    \"knn\":{\"n_neighbors\":[15,3,5,7,9,10,12], \"weights\":[\"distance\"], \"leaf_size\":[2,3]},\n",
    "    \"svm\" : {'C': [1], 'gamma': [0.1],'kernel': ['rbf']},\n",
    "    \"lda_svd\":{\"solver\":[\"svd\"]}\n",
    "}\n",
    "overview = pd.DataFrame()\n",
    "ing_pred = pd.DataFrame()\n",
    "\n",
    "for model in models:\n",
    "    grid_clf_acc = GridSearchCV(models[model], cv=3, param_grid = grid_values[model], scoring = 'average_precision')\n",
    "    grid_clf_acc.fit(X_train, Y_train)\n",
    "\n",
    "    y_pred = grid_clf_acc.predict(x_test)\n",
    "    probabilities = pd.DataFrame(grid_clf_acc.predict_proba(x_test))[1]\n",
    "    auc           = roc_auc_score(np.array(y_test),np.array(probabilities))\n",
    "    acc           = accuracy_score(y_test,y_pred)\n",
    "    precision     = precision_score(y_test,y_pred)\n",
    "    f1            = f1_score(y_test,y_pred)\n",
    "    \n",
    "    print(model, \"\\t\", \"AUC:\", auc, \"\\nAccuracy:\", acc, \"\\nPrecision:\", precision,\"\\n\" ,\"\\nF1:\", f1,\"\\n\",grid_clf_acc.best_params_)\n",
    "\n",
    "    overview[model] = [auc, acc, grid_clf_acc.best_params_]\n",
    "    \n",
    "    cmtx = pd.DataFrame(\n",
    "    confusion_matrix(y_test, y_pred), \n",
    "    index=['true:yes', 'true:no'], \n",
    "    columns=['pred:yes', 'pred:no'])\n",
    "\n",
    "    print(cmtx, \"\\n\")\n",
    "    probabilities.hist()\n",
    "    \n",
    "overview.index = [\"AUC\", \"Accuracy\", \"best params\"]"
   ]
  },
  {
   "cell_type": "markdown",
   "metadata": {},
   "source": [
    "### We also train the model using logistic regression from the satsmodels package."
   ]
  },
  {
   "cell_type": "code",
   "execution_count": 225,
   "metadata": {},
   "outputs": [],
   "source": [
    "import statsmodels\n",
    "from statsmodels.api import Logit"
   ]
  },
  {
   "cell_type": "code",
   "execution_count": 226,
   "metadata": {},
   "outputs": [
    {
     "name": "stdout",
     "output_type": "stream",
     "text": [
      "Optimization terminated successfully.\n",
      "         Current function value: 0.508406\n",
      "         Iterations 6\n",
      "                           Logit Regression Results                           \n",
      "==============================================================================\n",
      "Dep. Variable:             Default_45   No. Observations:                 7000\n",
      "Model:                          Logit   Df Residuals:                     6989\n",
      "Method:                           MLE   Df Model:                           10\n",
      "Date:                Sun, 10 May 2020   Pseudo R-squ.:                 0.07043\n",
      "Time:                        23:07:20   Log-Likelihood:                -3558.8\n",
      "converged:                       True   LL-Null:                       -3828.5\n",
      "Covariance Type:            nonrobust   LLR p-value:                1.731e-109\n",
      "====================================================================================\n",
      "                       coef    std err          z      P>|z|      [0.025      0.975]\n",
      "------------------------------------------------------------------------------------\n",
      "const                2.3522      0.486      4.844      0.000       1.400       3.304\n",
      "V1                   0.4612      0.084      5.521      0.000       0.297       0.625\n",
      "V2                   0.2097      0.087      2.402      0.016       0.039       0.381\n",
      "V3                  -0.2950      0.148     -1.989      0.047      -0.586      -0.004\n",
      "V4                   0.3120      0.082      3.786      0.000       0.151       0.474\n",
      "V5                  -0.6969      0.082     -8.457      0.000      -0.858      -0.535\n",
      "V6                   0.5164      0.190      2.721      0.007       0.144       0.888\n",
      "V7                   0.9016      0.125      7.197      0.000       0.656       1.147\n",
      "Business_channel     1.1100      0.072     15.358      0.000       0.968       1.252\n",
      "FICO_Score          -0.0443      0.388     -0.114      0.909      -0.805       0.717\n",
      "Age                  9.6538      1.398      6.905      0.000       6.914      12.394\n",
      "====================================================================================\n"
     ]
    }
   ],
   "source": [
    "Y=Y_train\n",
    "X=X_train\n",
    "X1= statsmodels.tools.tools.add_constant(X)\n",
    "logit=Logit(Y,X1)\n",
    "result=logit.fit()\n",
    "print(result.summary())"
   ]
  },
  {
   "cell_type": "code",
   "execution_count": 227,
   "metadata": {},
   "outputs": [],
   "source": [
    "from sklearn.metrics import auc"
   ]
  },
  {
   "cell_type": "code",
   "execution_count": 228,
   "metadata": {},
   "outputs": [
    {
     "data": {
      "image/png": "[encoded data removed]",
      "text/plain": [
       "<Figure size 432x288 with 1 Axes>"
      ]
     },
     "metadata": {
      "needs_background": "light"
     },
     "output_type": "display_data"
    }
   ],
   "source": [
    "Y_test = y_test\n",
    "X_test = x_test\n",
    "X3 = statsmodels.tools.tools.add_constant(X_test)\n",
    "resu = result.predict(X3)#make predicitons\n",
    "fpr, tpr, threshold = roc_curve(Y_test, resu)\n",
    "rocauc = auc(np.array(fpr), np.array(tpr))#calculate AUC\n",
    "plt.plot(fpr, tpr, 'b', label='AUC = %0.2f' % rocauc)\n",
    "plt.legend(loc='lower right')\n",
    "plt.plot([0, 1], [0, 1], 'r--')\n",
    "plt.xlim([0, 1])\n",
    "plt.ylim([0, 1])\n",
    "plt.show()"
   ]
  },
  {
   "cell_type": "markdown",
   "metadata": {},
   "source": [
    "## Include Rejects Inference "
   ]
  },
  {
   "cell_type": "markdown",
   "metadata": {},
   "source": [
    "### To include the rejects into our training set, we will first transform each variable into woe embedding using the cuts and woe value of the accepts data set."
   ]
  },
  {
   "cell_type": "code",
   "execution_count": 229,
   "metadata": {},
   "outputs": [],
   "source": [
    "data_re = pd.DataFrame()\n",
    "for column in process_re.columns:\n",
    "    i = 0\n",
    "    data_re[column] = pd.Series(replace_woe(process_re[column], cut[i], woe[i]))\n",
    "    i = i+1"
   ]
  },
  {
   "cell_type": "code",
   "execution_count": 230,
   "metadata": {},
   "outputs": [
    {
     "data": {
      "text/html": [
       "<div>\n",
       "<style scoped>\n",
       "    .dataframe tbody tr th:only-of-type {\n",
       "        vertical-align: middle;\n",
       "    }\n",
       "\n",
       "    .dataframe tbody tr th {\n",
       "        vertical-align: top;\n",
       "    }\n",
       "\n",
       "    .dataframe thead th {\n",
       "        text-align: right;\n",
       "    }\n",
       "</style>\n",
       "<table border=\"1\" class=\"dataframe\">\n",
       "  <thead>\n",
       "    <tr style=\"text-align: right;\">\n",
       "      <th></th>\n",
       "      <th>V1</th>\n",
       "      <th>V2</th>\n",
       "      <th>V3</th>\n",
       "      <th>V4</th>\n",
       "      <th>V5</th>\n",
       "      <th>V6</th>\n",
       "      <th>V7</th>\n",
       "      <th>V8</th>\n",
       "      <th>Has_FICO</th>\n",
       "      <th>Business_channel</th>\n",
       "      <th>FICO_Score</th>\n",
       "      <th>Loan_amount</th>\n",
       "      <th>Monthly_income</th>\n",
       "      <th>Age</th>\n",
       "      <th>Gearing_coefficient</th>\n",
       "      <th>Max_gearing_ratio</th>\n",
       "    </tr>\n",
       "  </thead>\n",
       "  <tbody>\n",
       "    <tr>\n",
       "      <td>0</td>\n",
       "      <td>0.063</td>\n",
       "      <td>0.063</td>\n",
       "      <td>0.662</td>\n",
       "      <td>0.564</td>\n",
       "      <td>-0.390</td>\n",
       "      <td>0.662</td>\n",
       "      <td>-0.390</td>\n",
       "      <td>-0.390</td>\n",
       "      <td>-0.39</td>\n",
       "      <td>-0.39</td>\n",
       "      <td>-0.327</td>\n",
       "      <td>-0.327</td>\n",
       "      <td>-0.327</td>\n",
       "      <td>-0.327</td>\n",
       "      <td>-0.390</td>\n",
       "      <td>-0.327</td>\n",
       "    </tr>\n",
       "    <tr>\n",
       "      <td>1</td>\n",
       "      <td>-0.390</td>\n",
       "      <td>0.662</td>\n",
       "      <td>0.662</td>\n",
       "      <td>-0.390</td>\n",
       "      <td>0.662</td>\n",
       "      <td>0.662</td>\n",
       "      <td>-0.390</td>\n",
       "      <td>0.564</td>\n",
       "      <td>-0.39</td>\n",
       "      <td>-0.39</td>\n",
       "      <td>-0.327</td>\n",
       "      <td>0.063</td>\n",
       "      <td>-0.390</td>\n",
       "      <td>-0.327</td>\n",
       "      <td>-0.390</td>\n",
       "      <td>-0.390</td>\n",
       "    </tr>\n",
       "    <tr>\n",
       "      <td>2</td>\n",
       "      <td>-0.390</td>\n",
       "      <td>0.662</td>\n",
       "      <td>0.662</td>\n",
       "      <td>0.662</td>\n",
       "      <td>0.662</td>\n",
       "      <td>0.662</td>\n",
       "      <td>-0.390</td>\n",
       "      <td>0.662</td>\n",
       "      <td>-0.39</td>\n",
       "      <td>-0.39</td>\n",
       "      <td>-0.327</td>\n",
       "      <td>-0.327</td>\n",
       "      <td>-0.327</td>\n",
       "      <td>-0.327</td>\n",
       "      <td>-0.327</td>\n",
       "      <td>-0.390</td>\n",
       "    </tr>\n",
       "    <tr>\n",
       "      <td>3</td>\n",
       "      <td>-0.390</td>\n",
       "      <td>0.662</td>\n",
       "      <td>0.662</td>\n",
       "      <td>0.564</td>\n",
       "      <td>0.564</td>\n",
       "      <td>0.662</td>\n",
       "      <td>0.063</td>\n",
       "      <td>0.063</td>\n",
       "      <td>-0.39</td>\n",
       "      <td>-0.39</td>\n",
       "      <td>-0.327</td>\n",
       "      <td>-0.327</td>\n",
       "      <td>-0.327</td>\n",
       "      <td>-0.327</td>\n",
       "      <td>-0.390</td>\n",
       "      <td>-0.327</td>\n",
       "    </tr>\n",
       "    <tr>\n",
       "      <td>4</td>\n",
       "      <td>-0.390</td>\n",
       "      <td>0.662</td>\n",
       "      <td>0.662</td>\n",
       "      <td>-0.390</td>\n",
       "      <td>0.662</td>\n",
       "      <td>0.662</td>\n",
       "      <td>-0.390</td>\n",
       "      <td>0.063</td>\n",
       "      <td>-0.39</td>\n",
       "      <td>-0.39</td>\n",
       "      <td>-0.390</td>\n",
       "      <td>0.063</td>\n",
       "      <td>-0.327</td>\n",
       "      <td>-0.327</td>\n",
       "      <td>-0.327</td>\n",
       "      <td>-0.390</td>\n",
       "    </tr>\n",
       "  </tbody>\n",
       "</table>\n",
       "</div>"
      ],
      "text/plain": [
       "      V1     V2     V3     V4     V5     V6     V7     V8  Has_FICO  \\\n",
       "0  0.063  0.063  0.662  0.564 -0.390  0.662 -0.390 -0.390     -0.39   \n",
       "1 -0.390  0.662  0.662 -0.390  0.662  0.662 -0.390  0.564     -0.39   \n",
       "2 -0.390  0.662  0.662  0.662  0.662  0.662 -0.390  0.662     -0.39   \n",
       "3 -0.390  0.662  0.662  0.564  0.564  0.662  0.063  0.063     -0.39   \n",
       "4 -0.390  0.662  0.662 -0.390  0.662  0.662 -0.390  0.063     -0.39   \n",
       "\n",
       "   Business_channel  FICO_Score  Loan_amount  Monthly_income    Age  \\\n",
       "0             -0.39      -0.327       -0.327          -0.327 -0.327   \n",
       "1             -0.39      -0.327        0.063          -0.390 -0.327   \n",
       "2             -0.39      -0.327       -0.327          -0.327 -0.327   \n",
       "3             -0.39      -0.327       -0.327          -0.327 -0.327   \n",
       "4             -0.39      -0.390        0.063          -0.327 -0.327   \n",
       "\n",
       "   Gearing_coefficient  Max_gearing_ratio  \n",
       "0               -0.390             -0.327  \n",
       "1               -0.390             -0.390  \n",
       "2               -0.327             -0.390  \n",
       "3               -0.390             -0.327  \n",
       "4               -0.327             -0.390  "
      ]
     },
     "execution_count": 230,
     "metadata": {},
     "output_type": "execute_result"
    }
   ],
   "source": [
    "data_re.head()"
   ]
  },
  {
   "cell_type": "markdown",
   "metadata": {},
   "source": [
    "### Based on the performance of each model, we will select Random Forest to make predictions on the rejects data set first."
   ]
  },
  {
   "cell_type": "code",
   "execution_count": 231,
   "metadata": {},
   "outputs": [],
   "source": [
    "data_re = data_re.drop(remove,axis = 1)"
   ]
  },
  {
   "cell_type": "markdown",
   "metadata": {},
   "source": [
    "### Since random forest is the last model in our model loop section, we can directly use the trained model to make predicitons"
   ]
  },
  {
   "cell_type": "code",
   "execution_count": 232,
   "metadata": {},
   "outputs": [],
   "source": [
    "probabilities = pd.DataFrame(grid_clf_acc.predict_proba(data_re))[1]"
   ]
  },
  {
   "cell_type": "code",
   "execution_count": 234,
   "metadata": {},
   "outputs": [],
   "source": [
    "upper_quartile_re = probabilities.quantile(0.80)"
   ]
  },
  {
   "cell_type": "code",
   "execution_count": 235,
   "metadata": {},
   "outputs": [],
   "source": [
    "Y_re = pd.DataFrame()\n",
    "Y_re[\"Default_45\"] = probabilities > upper_quartile_re\n",
    "Y_re = pd.DataFrame(Y_re[\"Default_45\"].astype(int))\n",
    "Y_train = pd.DataFrame(Y_train)"
   ]
  },
  {
   "cell_type": "markdown",
   "metadata": {},
   "source": [
    "### Combine the rejects with the accepts"
   ]
  },
  {
   "cell_type": "code",
   "execution_count": 236,
   "metadata": {},
   "outputs": [],
   "source": [
    "frames = [data_re, X_train]\n",
    "X_training = pd.concat(frames)"
   ]
  },
  {
   "cell_type": "code",
   "execution_count": 237,
   "metadata": {},
   "outputs": [],
   "source": [
    "frames = [Y_re,Y_train]\n",
    "Y_training = pd.concat(frames)"
   ]
  },
  {
   "cell_type": "markdown",
   "metadata": {},
   "source": [
    "### Define logistic regression model"
   ]
  },
  {
   "cell_type": "code",
   "execution_count": 239,
   "metadata": {},
   "outputs": [
    {
     "name": "stdout",
     "output_type": "stream",
     "text": [
      "Optimization terminated successfully.\n",
      "         Current function value: 0.452891\n",
      "         Iterations 7\n",
      "                           Logit Regression Results                           \n",
      "==============================================================================\n",
      "Dep. Variable:                      y   No. Observations:                12000\n",
      "Model:                          Logit   Df Residuals:                    11989\n",
      "Method:                           MLE   Df Model:                           10\n",
      "Date:                Sun, 10 May 2020   Pseudo R-squ.:                  0.1406\n",
      "Time:                        23:08:37   Log-Likelihood:                -5434.7\n",
      "converged:                       True   LL-Null:                       -6324.2\n",
      "Covariance Type:            nonrobust   LLR p-value:                     0.000\n",
      "====================================================================================\n",
      "                       coef    std err          z      P>|z|      [0.025      0.975]\n",
      "------------------------------------------------------------------------------------\n",
      "const               -0.2224      0.217     -1.026      0.305      -0.647       0.202\n",
      "V1                   1.2124      0.066     18.390      0.000       1.083       1.342\n",
      "V2                   0.4430      0.072      6.121      0.000       0.301       0.585\n",
      "V3                  -0.2655      0.120     -2.213      0.027      -0.501      -0.030\n",
      "V4                   0.4436      0.067      6.624      0.000       0.312       0.575\n",
      "V5                  -1.1205      0.062    -18.090      0.000      -1.242      -0.999\n",
      "V6                   1.0444      0.192      5.447      0.000       0.669       1.420\n",
      "V7                   2.0624      0.097     21.282      0.000       1.872       2.252\n",
      "Business_channel     1.4121      0.069     20.354      0.000       1.276       1.548\n",
      "FICO_Score           0.0831      0.301      0.276      0.783      -0.507       0.673\n",
      "Age                  2.1622      0.393      5.502      0.000       1.392       2.932\n",
      "====================================================================================\n"
     ]
    }
   ],
   "source": [
    "Y=np.array(Y_training)\n",
    "X=X_training\n",
    "X1=statsmodels.tools.add_constant(X)\n",
    "logit_t=Logit(Y,X1)\n",
    "result_t=logit_t.fit()\n",
    "print(result_t.summary())"
   ]
  },
  {
   "cell_type": "code",
   "execution_count": 240,
   "metadata": {},
   "outputs": [],
   "source": [
    "from sklearn.metrics import auc"
   ]
  },
  {
   "cell_type": "code",
   "execution_count": 241,
   "metadata": {},
   "outputs": [
    {
     "data": {
      "image/png": "[encoded data removed]",
      "text/plain": [
       "<Figure size 432x288 with 1 Axes>"
      ]
     },
     "metadata": {
      "needs_background": "light"
     },
     "output_type": "display_data"
    }
   ],
   "source": [
    "Y_test = y_test\n",
    "X_test = x_test\n",
    "X3 = statsmodels.tools.add_constant(X_test)\n",
    "resu = result_t.predict(X3)#make predictions\n",
    "fpr, tpr, threshold = roc_curve(Y_test, resu)\n",
    "rocauc = auc(np.array(fpr), np.array(tpr))#calculate AUC\n",
    "plt.plot(fpr, tpr, 'b', label='AUC = %0.2f' % rocauc)\n",
    "plt.legend(loc='lower right')\n",
    "plt.plot([0, 1], [0, 1], 'r--')\n",
    "plt.xlim([0, 1])\n",
    "plt.ylim([0, 1])\n",
    "plt.show()"
   ]
  },
  {
   "cell_type": "markdown",
   "metadata": {},
   "source": [
    "# 4 Scores"
   ]
  },
  {
   "cell_type": "code",
   "execution_count": 272,
   "metadata": {},
   "outputs": [],
   "source": [
    "p = 20 / math.log(2)"
   ]
  },
  {
   "cell_type": "markdown",
   "metadata": {},
   "source": [
    "### Based on the coef of the logistic regression, we define the coe list like this"
   ]
  },
  {
   "cell_type": "code",
   "execution_count": 273,
   "metadata": {},
   "outputs": [],
   "source": [
    "coe = [1.2124,0.4430,-0.2655, 0.4436,-1.1205,1.0444,2.0624,1.4121,0.0831,2.1622]"
   ]
  },
  {
   "cell_type": "code",
   "execution_count": 274,
   "metadata": {},
   "outputs": [],
   "source": [
    "#Define the function to get score of each predicator\n",
    "def get_score(coe,woe,factor):\n",
    "    scores=[]\n",
    "    for w in woe:\n",
    "        score=round(coe*w*factor,0)\n",
    "        scores.append(score)\n",
    "    return scores"
   ]
  },
  {
   "cell_type": "markdown",
   "metadata": {},
   "source": [
    "### Get score of each predicator and print them out"
   ]
  },
  {
   "cell_type": "code",
   "execution_count": 289,
   "metadata": {},
   "outputs": [],
   "source": [
    "score_v1 = get_score(coe[0],woe[0],p)"
   ]
  },
  {
   "cell_type": "code",
   "execution_count": 290,
   "metadata": {},
   "outputs": [
    {
     "data": {
      "text/plain": [
       "[-11.0, -14.0, 20.0, 2.0, 23.0]"
      ]
     },
     "execution_count": 290,
     "metadata": {},
     "output_type": "execute_result"
    }
   ],
   "source": [
    "score_v1"
   ]
  },
  {
   "cell_type": "code",
   "execution_count": 291,
   "metadata": {},
   "outputs": [],
   "source": [
    "score_v2 = get_score(coe[1],woe[1],p)"
   ]
  },
  {
   "cell_type": "code",
   "execution_count": 292,
   "metadata": {},
   "outputs": [
    {
     "data": {
      "text/plain": [
       "[-7.0, 1.0, -4.0, 4.0, -12.0]"
      ]
     },
     "execution_count": 292,
     "metadata": {},
     "output_type": "execute_result"
    }
   ],
   "source": [
    "score_v2"
   ]
  },
  {
   "cell_type": "code",
   "execution_count": 293,
   "metadata": {},
   "outputs": [],
   "source": [
    "score_v3 = get_score(coe[2],woe[2],p)"
   ]
  },
  {
   "cell_type": "code",
   "execution_count": 294,
   "metadata": {},
   "outputs": [
    {
     "data": {
      "text/plain": [
       "[-1.0, 5.0, -3.0, 3.0, -2.0]"
      ]
     },
     "execution_count": 294,
     "metadata": {},
     "output_type": "execute_result"
    }
   ],
   "source": [
    "score_v3"
   ]
  },
  {
   "cell_type": "code",
   "execution_count": 295,
   "metadata": {},
   "outputs": [],
   "source": [
    "score_v4 = get_score(coe[3],woe[3],p)"
   ]
  },
  {
   "cell_type": "code",
   "execution_count": 296,
   "metadata": {},
   "outputs": [
    {
     "data": {
      "text/plain": [
       "[0.0, 2.0, 4.0, -10.0, 6.0]"
      ]
     },
     "execution_count": 296,
     "metadata": {},
     "output_type": "execute_result"
    }
   ],
   "source": [
    "score_v4"
   ]
  },
  {
   "cell_type": "code",
   "execution_count": 297,
   "metadata": {},
   "outputs": [],
   "source": [
    "score_v5 = get_score(coe[4],woe[4],p)"
   ]
  },
  {
   "cell_type": "code",
   "execution_count": 298,
   "metadata": {},
   "outputs": [
    {
     "data": {
      "text/plain": [
       "[-21.0, -5.0, 10.0, 13.0, 26.0]"
      ]
     },
     "execution_count": 298,
     "metadata": {},
     "output_type": "execute_result"
    }
   ],
   "source": [
    "score_v5"
   ]
  },
  {
   "cell_type": "code",
   "execution_count": 299,
   "metadata": {},
   "outputs": [],
   "source": [
    "score_v6 = get_score(coe[5],woe[5],p)"
   ]
  },
  {
   "cell_type": "code",
   "execution_count": 300,
   "metadata": {},
   "outputs": [
    {
     "data": {
      "text/plain": [
       "[-14.0, -23.0, -1.0, 13.0, -24.0]"
      ]
     },
     "execution_count": 300,
     "metadata": {},
     "output_type": "execute_result"
    }
   ],
   "source": [
    "score_v6"
   ]
  },
  {
   "cell_type": "code",
   "execution_count": 301,
   "metadata": {},
   "outputs": [],
   "source": [
    "score_v7 = get_score(coe[6],woe[6],p)"
   ]
  },
  {
   "cell_type": "code",
   "execution_count": 302,
   "metadata": {},
   "outputs": [
    {
     "data": {
      "text/plain": [
       "[-16.0, 33.0, 21.0, nan, nan]"
      ]
     },
     "execution_count": 302,
     "metadata": {},
     "output_type": "execute_result"
    }
   ],
   "source": [
    "score_v7"
   ]
  },
  {
   "cell_type": "code",
   "execution_count": 306,
   "metadata": {},
   "outputs": [],
   "source": [
    "score_Business_channel = get_score(coe[7],woe[9],p)"
   ]
  },
  {
   "cell_type": "code",
   "execution_count": 307,
   "metadata": {},
   "outputs": [
    {
     "data": {
      "text/plain": [
       "[-7.0, 31.0, -48.0, nan, nan]"
      ]
     },
     "execution_count": 307,
     "metadata": {},
     "output_type": "execute_result"
    }
   ],
   "source": [
    "score_Business_channel"
   ]
  },
  {
   "cell_type": "code",
   "execution_count": 308,
   "metadata": {},
   "outputs": [],
   "source": [
    "score_FICO_score = get_score(coe[8],woe[10],p)"
   ]
  },
  {
   "cell_type": "code",
   "execution_count": 309,
   "metadata": {},
   "outputs": [
    {
     "data": {
      "text/plain": [
       "[4.0, 2.0, -0.0, -3.0, -6.0]"
      ]
     },
     "execution_count": 309,
     "metadata": {},
     "output_type": "execute_result"
    }
   ],
   "source": [
    "score_FICO_score"
   ]
  },
  {
   "cell_type": "code",
   "execution_count": 310,
   "metadata": {},
   "outputs": [],
   "source": [
    "score_Age = get_score(coe[9],woe[13],p)"
   ]
  },
  {
   "cell_type": "code",
   "execution_count": 311,
   "metadata": {},
   "outputs": [
    {
     "data": {
      "text/plain": [
       "[47.0, 26.0, 19.0, 14.0, 3.0, -26.0, -39.0, -48.0, -56.0]"
      ]
     },
     "execution_count": 311,
     "metadata": {},
     "output_type": "execute_result"
    }
   ],
   "source": [
    "score_Age"
   ]
  }
 ],
 "metadata": {
  "kernelspec": {
   "display_name": "Python 3",
   "language": "python",
   "name": "python3"
  },
  "language_info": {
   "codemirror_mode": {
    "name": "ipython",
    "version": 3
   },
   "file_extension": ".py",
   "mimetype": "text/x-python",
   "name": "python",
   "nbconvert_exporter": "python",
   "pygments_lexer": "ipython3",
   "version": "3.7.4"
  }
 },
 "nbformat": 4,
 "nbformat_minor": 2
}
